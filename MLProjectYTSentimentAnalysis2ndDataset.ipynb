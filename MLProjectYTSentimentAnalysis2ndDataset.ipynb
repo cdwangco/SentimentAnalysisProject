{
  "cells": [
    {
      "cell_type": "markdown",
      "metadata": {
        "colab_type": "text",
        "id": "view-in-github"
      },
      "source": [
        "<a href=\"https://colab.research.google.com/github/cdwangco/SentimentAnalysisProject/blob/main/MLProjectYTSentimentAnalysis2ndDataset.ipynb\" target=\"_parent\"><img src=\"https://colab.research.google.com/assets/colab-badge.svg\" alt=\"Open In Colab\"/></a>"
      ]
    },
    {
      "cell_type": "code",
      "execution_count": null,
      "metadata": {
        "id": "01aJnsW7IaJa"
      },
      "outputs": [],
      "source": []
    },
    {
      "cell_type": "code",
      "execution_count": 3,
      "metadata": {
        "id": "7mzprkQCAfJZ"
      },
      "outputs": [],
      "source": [
        "import numpy as np\n",
        "import pandas as pd\n",
        "from sklearn.model_selection import train_test_split\n",
        "from sklearn.linear_model import LogisticRegression\n",
        "from sklearn.model_selection import GridSearchCV\n",
        "from sklearn.model_selection import cross_val_score\n",
        "import torch\n",
        "import warnings\n",
        "warnings.filterwarnings('ignore')"
      ]
    },
    {
      "cell_type": "code",
      "execution_count": 4,
      "metadata": {
        "colab": {
          "base_uri": "https://localhost:8080/"
        },
        "id": "kDjB8YCbIFyn",
        "outputId": "2f5cfff6-3f71-49ff-da08-4c5f8e3f3ac6"
      },
      "outputs": [],
      "source": [
        "#input data source here\n",
        "# df = pd.read_csv('https://github.com/clairett/pytorch-sentiment-classification/raw/master/data/SST2/train.tsv', delimiter='\\t', header=None\n",
        "# !unzip comments.csv.zip\n"
      ]
    },
    {
      "cell_type": "code",
      "execution_count": 5,
      "metadata": {
        "id": "vzWl4jnGSTyG"
      },
      "outputs": [],
      "source": [
        "df = pd.read_csv('comments.csv')"
      ]
    },
    {
      "cell_type": "code",
      "execution_count": 6,
      "metadata": {
        "colab": {
          "base_uri": "https://localhost:8080/"
        },
        "id": "J1vbWnNTCZLM",
        "outputId": "dc2a402a-a526-4b44-cf95-638966cf5877"
      },
      "outputs": [
        {
          "name": "stdout",
          "output_type": "stream",
          "text": [
            "   Unnamed: 0     Video ID                                            Comment  \\\n",
            "0           0  wAZZ-UWGVHI  Let's not forget that Apple Pay in 2014 requir...   \n",
            "1           1  wAZZ-UWGVHI  Here in NZ 50% of retailers don’t even have co...   \n",
            "2           2  wAZZ-UWGVHI  I will forever acknowledge this channel with t...   \n",
            "3           3  wAZZ-UWGVHI  Whenever I go to a place that doesn’t take App...   \n",
            "4           4  wAZZ-UWGVHI  Apple Pay is so convenient, secure, and easy t...   \n",
            "\n",
            "   Likes  Sentiment  \n",
            "0   95.0        1.0  \n",
            "1   19.0        0.0  \n",
            "2  161.0        2.0  \n",
            "3    8.0        0.0  \n",
            "4   34.0        2.0  \n",
            "2.0    1096\n",
            "1.0     556\n",
            "0.0     348\n",
            "Name: Sentiment, dtype: int64\n"
          ]
        }
      ],
      "source": [
        "print(df.head())\n",
        "df = df[:2000]\n",
        "print(df['Sentiment'].value_counts()) #we have a balanced data set\n"
      ]
    },
    {
      "cell_type": "code",
      "execution_count": 7,
      "metadata": {
        "id": "nKR8eZ3lTfk2"
      },
      "outputs": [],
      "source": [
        "df = df.iloc[:,[2,4]]"
      ]
    },
    {
      "cell_type": "code",
      "execution_count": 8,
      "metadata": {
        "colab": {
          "base_uri": "https://localhost:8080/",
          "height": 424
        },
        "id": "JkmWurreVn_y",
        "outputId": "3d0debe0-6364-4c98-bdbe-632d5db8aca4"
      },
      "outputs": [
        {
          "data": {
            "text/html": [
              "<div>\n",
              "<style scoped>\n",
              "    .dataframe tbody tr th:only-of-type {\n",
              "        vertical-align: middle;\n",
              "    }\n",
              "\n",
              "    .dataframe tbody tr th {\n",
              "        vertical-align: top;\n",
              "    }\n",
              "\n",
              "    .dataframe thead th {\n",
              "        text-align: right;\n",
              "    }\n",
              "</style>\n",
              "<table border=\"1\" class=\"dataframe\">\n",
              "  <thead>\n",
              "    <tr style=\"text-align: right;\">\n",
              "      <th></th>\n",
              "      <th>Comment</th>\n",
              "      <th>1</th>\n",
              "    </tr>\n",
              "  </thead>\n",
              "  <tbody>\n",
              "    <tr>\n",
              "      <th>0</th>\n",
              "      <td>Let's not forget that Apple Pay in 2014 requir...</td>\n",
              "      <td>0</td>\n",
              "    </tr>\n",
              "    <tr>\n",
              "      <th>1</th>\n",
              "      <td>Here in NZ 50% of retailers don’t even have co...</td>\n",
              "      <td>0</td>\n",
              "    </tr>\n",
              "    <tr>\n",
              "      <th>2</th>\n",
              "      <td>I will forever acknowledge this channel with t...</td>\n",
              "      <td>1</td>\n",
              "    </tr>\n",
              "    <tr>\n",
              "      <th>3</th>\n",
              "      <td>Whenever I go to a place that doesn’t take App...</td>\n",
              "      <td>0</td>\n",
              "    </tr>\n",
              "    <tr>\n",
              "      <th>4</th>\n",
              "      <td>Apple Pay is so convenient, secure, and easy t...</td>\n",
              "      <td>1</td>\n",
              "    </tr>\n",
              "    <tr>\n",
              "      <th>...</th>\n",
              "      <td>...</td>\n",
              "      <td>...</td>\n",
              "    </tr>\n",
              "    <tr>\n",
              "      <th>1995</th>\n",
              "      <td>Hii cookie I love your videos soo much! 🍪</td>\n",
              "      <td>1</td>\n",
              "    </tr>\n",
              "    <tr>\n",
              "      <th>1996</th>\n",
              "      <td>Hii cookie! Can you post a video that show us ...</td>\n",
              "      <td>1</td>\n",
              "    </tr>\n",
              "    <tr>\n",
              "      <th>1997</th>\n",
              "      <td>Hey cookie cutter! Looking handsome as always ❤️</td>\n",
              "      <td>1</td>\n",
              "    </tr>\n",
              "    <tr>\n",
              "      <th>1998</th>\n",
              "      <td>I tried it and it not changing I’m still on 30...</td>\n",
              "      <td>0</td>\n",
              "    </tr>\n",
              "    <tr>\n",
              "      <th>1999</th>\n",
              "      <td>Hii cookie thank you so much for this good vid...</td>\n",
              "      <td>1</td>\n",
              "    </tr>\n",
              "  </tbody>\n",
              "</table>\n",
              "<p>2000 rows × 2 columns</p>\n",
              "</div>"
            ],
            "text/plain": [
              "                                                Comment  1\n",
              "0     Let's not forget that Apple Pay in 2014 requir...  0\n",
              "1     Here in NZ 50% of retailers don’t even have co...  0\n",
              "2     I will forever acknowledge this channel with t...  1\n",
              "3     Whenever I go to a place that doesn’t take App...  0\n",
              "4     Apple Pay is so convenient, secure, and easy t...  1\n",
              "...                                                 ... ..\n",
              "1995          Hii cookie I love your videos soo much! 🍪  1\n",
              "1996  Hii cookie! Can you post a video that show us ...  1\n",
              "1997   Hey cookie cutter! Looking handsome as always ❤️  1\n",
              "1998  I tried it and it not changing I’m still on 30...  0\n",
              "1999  Hii cookie thank you so much for this good vid...  1\n",
              "\n",
              "[2000 rows x 2 columns]"
            ]
          },
          "execution_count": 8,
          "metadata": {},
          "output_type": "execute_result"
        }
      ],
      "source": [
        "df['1'] = df['Sentiment'].apply(lambda x: 0 if x <= 1 else 1)\n",
        "df = df.iloc[:,[0,2]]\n",
        "df"
      ]
    },
    {
      "cell_type": "code",
      "execution_count": 9,
      "metadata": {
        "colab": {
          "base_uri": "https://localhost:8080/",
          "height": 424
        },
        "id": "P0usDrenWhzM",
        "outputId": "0fba3037-27ef-461e-b794-f1456c56eb57"
      },
      "outputs": [
        {
          "data": {
            "text/html": [
              "<div>\n",
              "<style scoped>\n",
              "    .dataframe tbody tr th:only-of-type {\n",
              "        vertical-align: middle;\n",
              "    }\n",
              "\n",
              "    .dataframe tbody tr th {\n",
              "        vertical-align: top;\n",
              "    }\n",
              "\n",
              "    .dataframe thead th {\n",
              "        text-align: right;\n",
              "    }\n",
              "</style>\n",
              "<table border=\"1\" class=\"dataframe\">\n",
              "  <thead>\n",
              "    <tr style=\"text-align: right;\">\n",
              "      <th></th>\n",
              "      <th>0</th>\n",
              "      <th>1</th>\n",
              "    </tr>\n",
              "  </thead>\n",
              "  <tbody>\n",
              "    <tr>\n",
              "      <th>0</th>\n",
              "      <td>Let's not forget that Apple Pay in 2014 requir...</td>\n",
              "      <td>0</td>\n",
              "    </tr>\n",
              "    <tr>\n",
              "      <th>1</th>\n",
              "      <td>Here in NZ 50% of retailers don’t even have co...</td>\n",
              "      <td>0</td>\n",
              "    </tr>\n",
              "    <tr>\n",
              "      <th>2</th>\n",
              "      <td>I will forever acknowledge this channel with t...</td>\n",
              "      <td>1</td>\n",
              "    </tr>\n",
              "    <tr>\n",
              "      <th>3</th>\n",
              "      <td>Whenever I go to a place that doesn’t take App...</td>\n",
              "      <td>0</td>\n",
              "    </tr>\n",
              "    <tr>\n",
              "      <th>4</th>\n",
              "      <td>Apple Pay is so convenient, secure, and easy t...</td>\n",
              "      <td>1</td>\n",
              "    </tr>\n",
              "    <tr>\n",
              "      <th>...</th>\n",
              "      <td>...</td>\n",
              "      <td>...</td>\n",
              "    </tr>\n",
              "    <tr>\n",
              "      <th>1995</th>\n",
              "      <td>Hii cookie I love your videos soo much! 🍪</td>\n",
              "      <td>1</td>\n",
              "    </tr>\n",
              "    <tr>\n",
              "      <th>1996</th>\n",
              "      <td>Hii cookie! Can you post a video that show us ...</td>\n",
              "      <td>1</td>\n",
              "    </tr>\n",
              "    <tr>\n",
              "      <th>1997</th>\n",
              "      <td>Hey cookie cutter! Looking handsome as always ❤️</td>\n",
              "      <td>1</td>\n",
              "    </tr>\n",
              "    <tr>\n",
              "      <th>1998</th>\n",
              "      <td>I tried it and it not changing I’m still on 30...</td>\n",
              "      <td>0</td>\n",
              "    </tr>\n",
              "    <tr>\n",
              "      <th>1999</th>\n",
              "      <td>Hii cookie thank you so much for this good vid...</td>\n",
              "      <td>1</td>\n",
              "    </tr>\n",
              "  </tbody>\n",
              "</table>\n",
              "<p>2000 rows × 2 columns</p>\n",
              "</div>"
            ],
            "text/plain": [
              "                                                      0  1\n",
              "0     Let's not forget that Apple Pay in 2014 requir...  0\n",
              "1     Here in NZ 50% of retailers don’t even have co...  0\n",
              "2     I will forever acknowledge this channel with t...  1\n",
              "3     Whenever I go to a place that doesn’t take App...  0\n",
              "4     Apple Pay is so convenient, secure, and easy t...  1\n",
              "...                                                 ... ..\n",
              "1995          Hii cookie I love your videos soo much! 🍪  1\n",
              "1996  Hii cookie! Can you post a video that show us ...  1\n",
              "1997   Hey cookie cutter! Looking handsome as always ❤️  1\n",
              "1998  I tried it and it not changing I’m still on 30...  0\n",
              "1999  Hii cookie thank you so much for this good vid...  1\n",
              "\n",
              "[2000 rows x 2 columns]"
            ]
          },
          "execution_count": 9,
          "metadata": {},
          "output_type": "execute_result"
        }
      ],
      "source": [
        "df = df.rename(columns={'Comment': 0})\n",
        "df\n"
      ]
    },
    {
      "cell_type": "code",
      "execution_count": 10,
      "metadata": {
        "colab": {
          "base_uri": "https://localhost:8080/"
        },
        "id": "sXeClwaSCb3G",
        "outputId": "356c9d2f-9027-452a-a9c1-26795be9ccde"
      },
      "outputs": [
        {
          "name": "stdout",
          "output_type": "stream",
          "text": [
            "Requirement already satisfied: vaderSentiment in /Users/josegarza/opt/anaconda3/envs/ai/lib/python3.9/site-packages (3.3.2)\n",
            "Requirement already satisfied: requests in /Users/josegarza/opt/anaconda3/envs/ai/lib/python3.9/site-packages (from vaderSentiment) (2.28.1)\n",
            "Requirement already satisfied: charset-normalizer<3,>=2 in /Users/josegarza/opt/anaconda3/envs/ai/lib/python3.9/site-packages (from requests->vaderSentiment) (2.1.1)\n",
            "Requirement already satisfied: idna<4,>=2.5 in /Users/josegarza/opt/anaconda3/envs/ai/lib/python3.9/site-packages (from requests->vaderSentiment) (3.4)\n",
            "Requirement already satisfied: certifi>=2017.4.17 in /Users/josegarza/opt/anaconda3/envs/ai/lib/python3.9/site-packages (from requests->vaderSentiment) (2022.9.24)\n",
            "Requirement already satisfied: urllib3<1.27,>=1.21.1 in /Users/josegarza/opt/anaconda3/envs/ai/lib/python3.9/site-packages (from requests->vaderSentiment) (1.26.12)\n",
            "Note: you may need to restart the kernel to use updated packages.\n"
          ]
        }
      ],
      "source": [
        "pip install vaderSentiment"
      ]
    },
    {
      "cell_type": "code",
      "execution_count": 11,
      "metadata": {
        "id": "9P5Rvhb7EGrQ"
      },
      "outputs": [],
      "source": [
        "from vaderSentiment.vaderSentiment import SentimentIntensityAnalyzer\n",
        "analyzer = SentimentIntensityAnalyzer()\n",
        "\n",
        "def getVader(text):\n",
        "  score = analyzer.polarity_scores(text)\n",
        "  return 1 if score['compound'] >= 0 else 0\n"
      ]
    },
    {
      "cell_type": "code",
      "execution_count": 12,
      "metadata": {
        "colab": {
          "base_uri": "https://localhost:8080/",
          "height": 206
        },
        "id": "yX-mN0uCFds4",
        "outputId": "187e544e-0210-4027-9ea4-c33851768b3e"
      },
      "outputs": [
        {
          "data": {
            "text/html": [
              "<div>\n",
              "<style scoped>\n",
              "    .dataframe tbody tr th:only-of-type {\n",
              "        vertical-align: middle;\n",
              "    }\n",
              "\n",
              "    .dataframe tbody tr th {\n",
              "        vertical-align: top;\n",
              "    }\n",
              "\n",
              "    .dataframe thead th {\n",
              "        text-align: right;\n",
              "    }\n",
              "</style>\n",
              "<table border=\"1\" class=\"dataframe\">\n",
              "  <thead>\n",
              "    <tr style=\"text-align: right;\">\n",
              "      <th></th>\n",
              "      <th>0</th>\n",
              "      <th>1</th>\n",
              "      <th>Vader</th>\n",
              "    </tr>\n",
              "  </thead>\n",
              "  <tbody>\n",
              "    <tr>\n",
              "      <th>0</th>\n",
              "      <td>Let's not forget that Apple Pay in 2014 requir...</td>\n",
              "      <td>0</td>\n",
              "      <td>1</td>\n",
              "    </tr>\n",
              "    <tr>\n",
              "      <th>1</th>\n",
              "      <td>Here in NZ 50% of retailers don’t even have co...</td>\n",
              "      <td>0</td>\n",
              "      <td>1</td>\n",
              "    </tr>\n",
              "    <tr>\n",
              "      <th>2</th>\n",
              "      <td>I will forever acknowledge this channel with t...</td>\n",
              "      <td>1</td>\n",
              "      <td>1</td>\n",
              "    </tr>\n",
              "    <tr>\n",
              "      <th>3</th>\n",
              "      <td>Whenever I go to a place that doesn’t take App...</td>\n",
              "      <td>0</td>\n",
              "      <td>0</td>\n",
              "    </tr>\n",
              "    <tr>\n",
              "      <th>4</th>\n",
              "      <td>Apple Pay is so convenient, secure, and easy t...</td>\n",
              "      <td>1</td>\n",
              "      <td>1</td>\n",
              "    </tr>\n",
              "  </tbody>\n",
              "</table>\n",
              "</div>"
            ],
            "text/plain": [
              "                                                   0  1  Vader\n",
              "0  Let's not forget that Apple Pay in 2014 requir...  0      1\n",
              "1  Here in NZ 50% of retailers don’t even have co...  0      1\n",
              "2  I will forever acknowledge this channel with t...  1      1\n",
              "3  Whenever I go to a place that doesn’t take App...  0      0\n",
              "4  Apple Pay is so convenient, secure, and easy t...  1      1"
            ]
          },
          "execution_count": 12,
          "metadata": {},
          "output_type": "execute_result"
        }
      ],
      "source": [
        "df['Vader'] = df[0].apply(getVader)\n",
        "df.head()"
      ]
    },
    {
      "cell_type": "code",
      "execution_count": 13,
      "metadata": {
        "colab": {
          "base_uri": "https://localhost:8080/"
        },
        "id": "73ttMQisrDRd",
        "outputId": "8b0d3dea-c477-40fe-9c15-c032538b3b75"
      },
      "outputs": [
        {
          "name": "stdout",
          "output_type": "stream",
          "text": [
            "Requirement already satisfied: flair in /Users/josegarza/opt/anaconda3/envs/ai/lib/python3.9/site-packages (0.11.3)\n",
            "Requirement already satisfied: python-dateutil>=2.6.1 in /Users/josegarza/opt/anaconda3/envs/ai/lib/python3.9/site-packages (from flair) (2.8.2)\n",
            "Requirement already satisfied: ftfy in /Users/josegarza/opt/anaconda3/envs/ai/lib/python3.9/site-packages (from flair) (6.1.1)\n",
            "Requirement already satisfied: segtok>=1.5.7 in /Users/josegarza/opt/anaconda3/envs/ai/lib/python3.9/site-packages (from flair) (1.5.11)\n",
            "Requirement already satisfied: regex in /Users/josegarza/opt/anaconda3/envs/ai/lib/python3.9/site-packages (from flair) (2022.10.31)\n",
            "Requirement already satisfied: transformers>=4.0.0 in /Users/josegarza/opt/anaconda3/envs/ai/lib/python3.9/site-packages (from flair) (4.24.0)\n",
            "Requirement already satisfied: janome in /Users/josegarza/opt/anaconda3/envs/ai/lib/python3.9/site-packages (from flair) (0.4.2)\n",
            "Requirement already satisfied: hyperopt>=0.2.7 in /Users/josegarza/opt/anaconda3/envs/ai/lib/python3.9/site-packages (from flair) (0.2.7)\n",
            "Requirement already satisfied: more-itertools in /Users/josegarza/opt/anaconda3/envs/ai/lib/python3.9/site-packages (from flair) (9.0.0)\n",
            "Requirement already satisfied: gdown==4.4.0 in /Users/josegarza/opt/anaconda3/envs/ai/lib/python3.9/site-packages (from flair) (4.4.0)\n",
            "Requirement already satisfied: bpemb>=0.3.2 in /Users/josegarza/opt/anaconda3/envs/ai/lib/python3.9/site-packages (from flair) (0.3.4)\n",
            "Requirement already satisfied: pptree in /Users/josegarza/opt/anaconda3/envs/ai/lib/python3.9/site-packages (from flair) (3.1)\n",
            "Requirement already satisfied: sqlitedict>=1.6.0 in /Users/josegarza/opt/anaconda3/envs/ai/lib/python3.9/site-packages (from flair) (2.0.0)\n",
            "Requirement already satisfied: conllu>=4.0 in /Users/josegarza/opt/anaconda3/envs/ai/lib/python3.9/site-packages (from flair) (4.5.2)\n",
            "Requirement already satisfied: mpld3==0.3 in /Users/josegarza/opt/anaconda3/envs/ai/lib/python3.9/site-packages (from flair) (0.3)\n",
            "Requirement already satisfied: tqdm>=4.26.0 in /Users/josegarza/opt/anaconda3/envs/ai/lib/python3.9/site-packages (from flair) (4.64.1)\n",
            "Requirement already satisfied: lxml in /Users/josegarza/opt/anaconda3/envs/ai/lib/python3.9/site-packages (from flair) (4.9.1)\n",
            "Requirement already satisfied: tabulate in /Users/josegarza/opt/anaconda3/envs/ai/lib/python3.9/site-packages (from flair) (0.9.0)\n",
            "Requirement already satisfied: langdetect in /Users/josegarza/opt/anaconda3/envs/ai/lib/python3.9/site-packages (from flair) (1.0.9)\n",
            "Requirement already satisfied: torch!=1.8,>=1.5.0 in /Users/josegarza/opt/anaconda3/envs/ai/lib/python3.9/site-packages (from flair) (1.13.0)\n",
            "Requirement already satisfied: huggingface-hub in /Users/josegarza/opt/anaconda3/envs/ai/lib/python3.9/site-packages (from flair) (0.11.1)\n",
            "Requirement already satisfied: scikit-learn>=0.21.3 in /Users/josegarza/opt/anaconda3/envs/ai/lib/python3.9/site-packages (from flair) (1.1.3)\n",
            "Requirement already satisfied: konoha<5.0.0,>=4.0.0 in /Users/josegarza/opt/anaconda3/envs/ai/lib/python3.9/site-packages (from flair) (4.6.5)\n",
            "Requirement already satisfied: gensim>=3.4.0 in /Users/josegarza/opt/anaconda3/envs/ai/lib/python3.9/site-packages (from flair) (4.2.0)\n",
            "Requirement already satisfied: deprecated>=1.2.4 in /Users/josegarza/opt/anaconda3/envs/ai/lib/python3.9/site-packages (from flair) (1.2.13)\n",
            "Requirement already satisfied: wikipedia-api in /Users/josegarza/opt/anaconda3/envs/ai/lib/python3.9/site-packages (from flair) (0.5.4)\n",
            "Requirement already satisfied: sentencepiece==0.1.95 in /Users/josegarza/opt/anaconda3/envs/ai/lib/python3.9/site-packages (from flair) (0.1.95)\n",
            "Requirement already satisfied: matplotlib>=2.2.3 in /Users/josegarza/opt/anaconda3/envs/ai/lib/python3.9/site-packages (from flair) (3.6.0)\n",
            "Requirement already satisfied: requests[socks] in /Users/josegarza/opt/anaconda3/envs/ai/lib/python3.9/site-packages (from gdown==4.4.0->flair) (2.28.1)\n",
            "Requirement already satisfied: beautifulsoup4 in /Users/josegarza/opt/anaconda3/envs/ai/lib/python3.9/site-packages (from gdown==4.4.0->flair) (4.11.1)\n",
            "Requirement already satisfied: filelock in /Users/josegarza/opt/anaconda3/envs/ai/lib/python3.9/site-packages (from gdown==4.4.0->flair) (3.8.0)\n",
            "Requirement already satisfied: six in /Users/josegarza/opt/anaconda3/envs/ai/lib/python3.9/site-packages (from gdown==4.4.0->flair) (1.16.0)\n",
            "Requirement already satisfied: numpy in /Users/josegarza/opt/anaconda3/envs/ai/lib/python3.9/site-packages (from bpemb>=0.3.2->flair) (1.23.4)\n",
            "Requirement already satisfied: wrapt<2,>=1.10 in /Users/josegarza/opt/anaconda3/envs/ai/lib/python3.9/site-packages (from deprecated>=1.2.4->flair) (1.14.1)\n",
            "Requirement already satisfied: smart-open>=1.8.1 in /Users/josegarza/opt/anaconda3/envs/ai/lib/python3.9/site-packages (from gensim>=3.4.0->flair) (6.2.0)\n",
            "Requirement already satisfied: scipy>=0.18.1 in /Users/josegarza/opt/anaconda3/envs/ai/lib/python3.9/site-packages (from gensim>=3.4.0->flair) (1.9.3)\n",
            "Requirement already satisfied: networkx>=2.2 in /Users/josegarza/opt/anaconda3/envs/ai/lib/python3.9/site-packages (from hyperopt>=0.2.7->flair) (2.8.8)\n",
            "Requirement already satisfied: py4j in /Users/josegarza/opt/anaconda3/envs/ai/lib/python3.9/site-packages (from hyperopt>=0.2.7->flair) (0.10.9.7)\n",
            "Requirement already satisfied: cloudpickle in /Users/josegarza/opt/anaconda3/envs/ai/lib/python3.9/site-packages (from hyperopt>=0.2.7->flair) (2.2.0)\n",
            "Requirement already satisfied: future in /Users/josegarza/opt/anaconda3/envs/ai/lib/python3.9/site-packages (from hyperopt>=0.2.7->flair) (0.18.2)\n",
            "Requirement already satisfied: overrides<4.0.0,>=3.0.0 in /Users/josegarza/opt/anaconda3/envs/ai/lib/python3.9/site-packages (from konoha<5.0.0,>=4.0.0->flair) (3.1.0)\n",
            "Collecting importlib-metadata<4.0.0,>=3.7.0\n",
            "  Using cached importlib_metadata-3.10.1-py3-none-any.whl (14 kB)\n",
            "Requirement already satisfied: contourpy>=1.0.1 in /Users/josegarza/opt/anaconda3/envs/ai/lib/python3.9/site-packages (from matplotlib>=2.2.3->flair) (1.0.5)\n",
            "Requirement already satisfied: fonttools>=4.22.0 in /Users/josegarza/opt/anaconda3/envs/ai/lib/python3.9/site-packages (from matplotlib>=2.2.3->flair) (4.37.3)\n",
            "Requirement already satisfied: kiwisolver>=1.0.1 in /Users/josegarza/opt/anaconda3/envs/ai/lib/python3.9/site-packages (from matplotlib>=2.2.3->flair) (1.4.4)\n",
            "Requirement already satisfied: pillow>=6.2.0 in /Users/josegarza/opt/anaconda3/envs/ai/lib/python3.9/site-packages (from matplotlib>=2.2.3->flair) (9.2.0)\n",
            "Requirement already satisfied: packaging>=20.0 in /Users/josegarza/opt/anaconda3/envs/ai/lib/python3.9/site-packages (from matplotlib>=2.2.3->flair) (21.3)\n",
            "Requirement already satisfied: cycler>=0.10 in /Users/josegarza/opt/anaconda3/envs/ai/lib/python3.9/site-packages (from matplotlib>=2.2.3->flair) (0.11.0)\n",
            "Requirement already satisfied: pyparsing>=2.2.1 in /Users/josegarza/opt/anaconda3/envs/ai/lib/python3.9/site-packages (from matplotlib>=2.2.3->flair) (3.0.9)\n",
            "Requirement already satisfied: joblib>=1.0.0 in /Users/josegarza/opt/anaconda3/envs/ai/lib/python3.9/site-packages (from scikit-learn>=0.21.3->flair) (1.1.1)\n",
            "Requirement already satisfied: threadpoolctl>=2.0.0 in /Users/josegarza/opt/anaconda3/envs/ai/lib/python3.9/site-packages (from scikit-learn>=0.21.3->flair) (2.2.0)\n",
            "Requirement already satisfied: typing_extensions in /Users/josegarza/opt/anaconda3/envs/ai/lib/python3.9/site-packages (from torch!=1.8,>=1.5.0->flair) (4.3.0)\n",
            "Requirement already satisfied: tokenizers!=0.11.3,<0.14,>=0.11.1 in /Users/josegarza/opt/anaconda3/envs/ai/lib/python3.9/site-packages (from transformers>=4.0.0->flair) (0.13.1)\n",
            "Requirement already satisfied: pyyaml>=5.1 in /Users/josegarza/opt/anaconda3/envs/ai/lib/python3.9/site-packages (from transformers>=4.0.0->flair) (6.0)\n",
            "Requirement already satisfied: wcwidth>=0.2.5 in /Users/josegarza/opt/anaconda3/envs/ai/lib/python3.9/site-packages (from ftfy->flair) (0.2.5)\n",
            "Requirement already satisfied: zipp>=0.5 in /Users/josegarza/opt/anaconda3/envs/ai/lib/python3.9/site-packages (from importlib-metadata<4.0.0,>=3.7.0->konoha<5.0.0,>=4.0.0->flair) (3.11.0)\n",
            "Requirement already satisfied: urllib3<1.27,>=1.21.1 in /Users/josegarza/opt/anaconda3/envs/ai/lib/python3.9/site-packages (from requests[socks]->gdown==4.4.0->flair) (1.26.12)\n",
            "Requirement already satisfied: certifi>=2017.4.17 in /Users/josegarza/opt/anaconda3/envs/ai/lib/python3.9/site-packages (from requests[socks]->gdown==4.4.0->flair) (2022.9.24)\n",
            "Requirement already satisfied: charset-normalizer<3,>=2 in /Users/josegarza/opt/anaconda3/envs/ai/lib/python3.9/site-packages (from requests[socks]->gdown==4.4.0->flair) (2.1.1)\n",
            "Requirement already satisfied: idna<4,>=2.5 in /Users/josegarza/opt/anaconda3/envs/ai/lib/python3.9/site-packages (from requests[socks]->gdown==4.4.0->flair) (3.4)\n",
            "Requirement already satisfied: soupsieve>1.2 in /Users/josegarza/opt/anaconda3/envs/ai/lib/python3.9/site-packages (from beautifulsoup4->gdown==4.4.0->flair) (2.3.1)\n",
            "Requirement already satisfied: PySocks!=1.5.7,>=1.5.6 in /Users/josegarza/opt/anaconda3/envs/ai/lib/python3.9/site-packages (from requests[socks]->gdown==4.4.0->flair) (1.7.1)\n",
            "Installing collected packages: importlib-metadata\n",
            "  Attempting uninstall: importlib-metadata\n",
            "    Found existing installation: importlib-metadata 4.12.0\n",
            "    Uninstalling importlib-metadata-4.12.0:\n",
            "      Successfully uninstalled importlib-metadata-4.12.0\n",
            "\u001b[31mERROR: pip's dependency resolver does not currently take into account all the packages that are installed. This behaviour is the source of the following dependency conflicts.\n",
            "markdown 3.4.1 requires importlib-metadata>=4.4; python_version < \"3.10\", but you have importlib-metadata 3.10.1 which is incompatible.\u001b[0m\u001b[31m\n",
            "\u001b[0mSuccessfully installed importlib-metadata-3.10.1\n"
          ]
        }
      ],
      "source": [
        "!pip install flair"
      ]
    },
    {
      "cell_type": "code",
      "execution_count": 14,
      "metadata": {
        "colab": {
          "base_uri": "https://localhost:8080/"
        },
        "id": "vhdsO5WBoiR2",
        "outputId": "b0ca0c65-b1c0-4e60-f823-d47824be6d76"
      },
      "outputs": [
        {
          "name": "stderr",
          "output_type": "stream",
          "text": [
            "2022-12-02 11:14:06.160300: I tensorflow/core/platform/cpu_feature_guard.cc:193] This TensorFlow binary is optimized with oneAPI Deep Neural Network Library (oneDNN) to use the following CPU instructions in performance-critical operations:  AVX2 FMA\n",
            "To enable them in other operations, rebuild TensorFlow with the appropriate compiler flags.\n"
          ]
        },
        {
          "name": "stdout",
          "output_type": "stream",
          "text": [
            "2022-12-02 11:14:14,005 loading file /Users/josegarza/.flair/models/sentiment-en-mix-distillbert_4.pt\n"
          ]
        }
      ],
      "source": [
        "from scipy.stats.stats import RanksumsResult\n",
        "# Evaluate the test using Flair baseline\n",
        "from flair.models import TextClassifier\n",
        "from flair.data import Sentence\n",
        "classifier = TextClassifier.load('en-sentiment')\n",
        "\n",
        "\n"
      ]
    },
    {
      "cell_type": "code",
      "execution_count": 15,
      "metadata": {
        "id": "bhlim6En6UkU"
      },
      "outputs": [],
      "source": [
        "def predict(sentence):\n",
        "    \"\"\" Predict the sentiment of a sentence \"\"\"\n",
        "    if sentence == \"\":\n",
        "        return 0\n",
        "    text = Sentence(sentence)\n",
        "    # stacked_embeddings.embed(text)\n",
        "    classifier.predict(text)\n",
        "    value = text.labels[0].to_dict()['value'] \n",
        "    # if value == 'POSITIVE':\n",
        "    #     result = text.to_dict()['labels'][0]['confidence']\n",
        "    # else:\n",
        "    #     result = -(text.to_dict()['labels'][0]['confidence'])\n",
        "    # return round(result, 3)\n",
        "    return 1 if value == 'POSITIVE' else 0\n",
        "\n",
        "def flairPredict(sentence):\n",
        "  # print(text)\n",
        "  result = predict(sentence)\n",
        "  return result"
      ]
    },
    {
      "cell_type": "code",
      "execution_count": 16,
      "metadata": {
        "colab": {
          "base_uri": "https://localhost:8080/"
        },
        "id": "MJHbNBivkV2S",
        "outputId": "807edf94-cd44-40b3-b1e4-b18b209a6126"
      },
      "outputs": [
        {
          "name": "stdout",
          "output_type": "stream",
          "text": [
            "2000\n"
          ]
        }
      ],
      "source": [
        "\n",
        "df['FlairScore'] = df[0].apply(flairPredict)\n",
        "df.head()\n",
        "print(len(df))"
      ]
    },
    {
      "cell_type": "code",
      "execution_count": 17,
      "metadata": {
        "colab": {
          "base_uri": "https://localhost:8080/",
          "height": 424
        },
        "id": "qYy-10bEbKD0",
        "outputId": "15f5faf4-6a96-4ca0-af66-50a08c58b428"
      },
      "outputs": [
        {
          "data": {
            "text/html": [
              "<div>\n",
              "<style scoped>\n",
              "    .dataframe tbody tr th:only-of-type {\n",
              "        vertical-align: middle;\n",
              "    }\n",
              "\n",
              "    .dataframe tbody tr th {\n",
              "        vertical-align: top;\n",
              "    }\n",
              "\n",
              "    .dataframe thead th {\n",
              "        text-align: right;\n",
              "    }\n",
              "</style>\n",
              "<table border=\"1\" class=\"dataframe\">\n",
              "  <thead>\n",
              "    <tr style=\"text-align: right;\">\n",
              "      <th></th>\n",
              "      <th>0</th>\n",
              "      <th>1</th>\n",
              "      <th>Vader</th>\n",
              "      <th>FlairScore</th>\n",
              "    </tr>\n",
              "  </thead>\n",
              "  <tbody>\n",
              "    <tr>\n",
              "      <th>0</th>\n",
              "      <td>Let's not forget that Apple Pay in 2014 requir...</td>\n",
              "      <td>0</td>\n",
              "      <td>1</td>\n",
              "      <td>0</td>\n",
              "    </tr>\n",
              "    <tr>\n",
              "      <th>1</th>\n",
              "      <td>Here in NZ 50% of retailers don’t even have co...</td>\n",
              "      <td>0</td>\n",
              "      <td>1</td>\n",
              "      <td>0</td>\n",
              "    </tr>\n",
              "    <tr>\n",
              "      <th>2</th>\n",
              "      <td>I will forever acknowledge this channel with t...</td>\n",
              "      <td>1</td>\n",
              "      <td>1</td>\n",
              "      <td>1</td>\n",
              "    </tr>\n",
              "    <tr>\n",
              "      <th>3</th>\n",
              "      <td>Whenever I go to a place that doesn’t take App...</td>\n",
              "      <td>0</td>\n",
              "      <td>0</td>\n",
              "      <td>0</td>\n",
              "    </tr>\n",
              "    <tr>\n",
              "      <th>4</th>\n",
              "      <td>Apple Pay is so convenient, secure, and easy t...</td>\n",
              "      <td>1</td>\n",
              "      <td>1</td>\n",
              "      <td>1</td>\n",
              "    </tr>\n",
              "    <tr>\n",
              "      <th>...</th>\n",
              "      <td>...</td>\n",
              "      <td>...</td>\n",
              "      <td>...</td>\n",
              "      <td>...</td>\n",
              "    </tr>\n",
              "    <tr>\n",
              "      <th>1995</th>\n",
              "      <td>Hii cookie I love your videos soo much! 🍪</td>\n",
              "      <td>1</td>\n",
              "      <td>1</td>\n",
              "      <td>1</td>\n",
              "    </tr>\n",
              "    <tr>\n",
              "      <th>1996</th>\n",
              "      <td>Hii cookie! Can you post a video that show us ...</td>\n",
              "      <td>1</td>\n",
              "      <td>1</td>\n",
              "      <td>1</td>\n",
              "    </tr>\n",
              "    <tr>\n",
              "      <th>1997</th>\n",
              "      <td>Hey cookie cutter! Looking handsome as always ❤️</td>\n",
              "      <td>1</td>\n",
              "      <td>1</td>\n",
              "      <td>1</td>\n",
              "    </tr>\n",
              "    <tr>\n",
              "      <th>1998</th>\n",
              "      <td>I tried it and it not changing I’m still on 30...</td>\n",
              "      <td>0</td>\n",
              "      <td>1</td>\n",
              "      <td>0</td>\n",
              "    </tr>\n",
              "    <tr>\n",
              "      <th>1999</th>\n",
              "      <td>Hii cookie thank you so much for this good vid...</td>\n",
              "      <td>1</td>\n",
              "      <td>1</td>\n",
              "      <td>0</td>\n",
              "    </tr>\n",
              "  </tbody>\n",
              "</table>\n",
              "<p>2000 rows × 4 columns</p>\n",
              "</div>"
            ],
            "text/plain": [
              "                                                      0  1  Vader  FlairScore\n",
              "0     Let's not forget that Apple Pay in 2014 requir...  0      1           0\n",
              "1     Here in NZ 50% of retailers don’t even have co...  0      1           0\n",
              "2     I will forever acknowledge this channel with t...  1      1           1\n",
              "3     Whenever I go to a place that doesn’t take App...  0      0           0\n",
              "4     Apple Pay is so convenient, secure, and easy t...  1      1           1\n",
              "...                                                 ... ..    ...         ...\n",
              "1995          Hii cookie I love your videos soo much! 🍪  1      1           1\n",
              "1996  Hii cookie! Can you post a video that show us ...  1      1           1\n",
              "1997   Hey cookie cutter! Looking handsome as always ❤️  1      1           1\n",
              "1998  I tried it and it not changing I’m still on 30...  0      1           0\n",
              "1999  Hii cookie thank you so much for this good vid...  1      1           0\n",
              "\n",
              "[2000 rows x 4 columns]"
            ]
          },
          "execution_count": 17,
          "metadata": {},
          "output_type": "execute_result"
        }
      ],
      "source": [
        "df"
      ]
    },
    {
      "cell_type": "code",
      "execution_count": 18,
      "metadata": {
        "id": "GExB1WrmNdZw"
      },
      "outputs": [],
      "source": [
        "from textblob import TextBlob\n",
        "from sklearn.metrics import confusion_matrix, accuracy_score\n"
      ]
    },
    {
      "cell_type": "code",
      "execution_count": 19,
      "metadata": {
        "id": "fTE0CQjKDhnB"
      },
      "outputs": [],
      "source": [
        "def getSubj(text):\n",
        "  return TextBlob(text).sentiment.subjectivity\n",
        "\n",
        "def getPol(text):\n",
        "  return TextBlob(text).sentiment.polarity\n",
        "\n",
        "def binarize(float):\n",
        "  return 1 if float > 0 else 0\n",
        "  \n"
      ]
    },
    {
      "cell_type": "code",
      "execution_count": 20,
      "metadata": {
        "colab": {
          "base_uri": "https://localhost:8080/",
          "height": 337
        },
        "id": "R4WFDQshPg7Q",
        "outputId": "ef8e7dee-9ca6-4a37-d9f2-755dfa82e7d6"
      },
      "outputs": [
        {
          "data": {
            "text/html": [
              "<div>\n",
              "<style scoped>\n",
              "    .dataframe tbody tr th:only-of-type {\n",
              "        vertical-align: middle;\n",
              "    }\n",
              "\n",
              "    .dataframe tbody tr th {\n",
              "        vertical-align: top;\n",
              "    }\n",
              "\n",
              "    .dataframe thead th {\n",
              "        text-align: right;\n",
              "    }\n",
              "</style>\n",
              "<table border=\"1\" class=\"dataframe\">\n",
              "  <thead>\n",
              "    <tr style=\"text-align: right;\">\n",
              "      <th></th>\n",
              "      <th>Comment</th>\n",
              "      <th>Label</th>\n",
              "      <th>Vader</th>\n",
              "      <th>FlairScore</th>\n",
              "      <th>Polarity</th>\n",
              "      <th>TextBlob</th>\n",
              "    </tr>\n",
              "  </thead>\n",
              "  <tbody>\n",
              "    <tr>\n",
              "      <th>0</th>\n",
              "      <td>Let's not forget that Apple Pay in 2014 requir...</td>\n",
              "      <td>0</td>\n",
              "      <td>1</td>\n",
              "      <td>0</td>\n",
              "      <td>0.075606</td>\n",
              "      <td>1</td>\n",
              "    </tr>\n",
              "    <tr>\n",
              "      <th>1</th>\n",
              "      <td>Here in NZ 50% of retailers don’t even have co...</td>\n",
              "      <td>0</td>\n",
              "      <td>1</td>\n",
              "      <td>0</td>\n",
              "      <td>0.160000</td>\n",
              "      <td>1</td>\n",
              "    </tr>\n",
              "    <tr>\n",
              "      <th>2</th>\n",
              "      <td>I will forever acknowledge this channel with t...</td>\n",
              "      <td>1</td>\n",
              "      <td>1</td>\n",
              "      <td>1</td>\n",
              "      <td>0.000000</td>\n",
              "      <td>0</td>\n",
              "    </tr>\n",
              "    <tr>\n",
              "      <th>3</th>\n",
              "      <td>Whenever I go to a place that doesn’t take App...</td>\n",
              "      <td>0</td>\n",
              "      <td>0</td>\n",
              "      <td>0</td>\n",
              "      <td>-0.183333</td>\n",
              "      <td>0</td>\n",
              "    </tr>\n",
              "    <tr>\n",
              "      <th>4</th>\n",
              "      <td>Apple Pay is so convenient, secure, and easy t...</td>\n",
              "      <td>1</td>\n",
              "      <td>1</td>\n",
              "      <td>1</td>\n",
              "      <td>0.208333</td>\n",
              "      <td>1</td>\n",
              "    </tr>\n",
              "  </tbody>\n",
              "</table>\n",
              "</div>"
            ],
            "text/plain": [
              "                                             Comment  Label  Vader  \\\n",
              "0  Let's not forget that Apple Pay in 2014 requir...      0      1   \n",
              "1  Here in NZ 50% of retailers don’t even have co...      0      1   \n",
              "2  I will forever acknowledge this channel with t...      1      1   \n",
              "3  Whenever I go to a place that doesn’t take App...      0      0   \n",
              "4  Apple Pay is so convenient, secure, and easy t...      1      1   \n",
              "\n",
              "   FlairScore  Polarity  TextBlob  \n",
              "0           0  0.075606         1  \n",
              "1           0  0.160000         1  \n",
              "2           1  0.000000         0  \n",
              "3           0 -0.183333         0  \n",
              "4           1  0.208333         1  "
            ]
          },
          "execution_count": 20,
          "metadata": {},
          "output_type": "execute_result"
        }
      ],
      "source": [
        "\n",
        "data = df.rename(columns={0: 'Comment', '1':'Label'})\n",
        "data['Polarity'] = data['Comment'].apply(getPol)\n",
        "data['TextBlob'] = data['Polarity'].apply(binarize)\n",
        "data.head()"
      ]
    },
    {
      "cell_type": "code",
      "execution_count": 33,
      "metadata": {
        "colab": {
          "base_uri": "https://localhost:8080/"
        },
        "id": "NKVbh5UDHlS4",
        "outputId": "236d9708-ee4e-4752-a424-f9e722fdba15"
      },
      "outputs": [
        {
          "data": {
            "text/plain": [
              "(2000, 12000)"
            ]
          },
          "execution_count": 33,
          "metadata": {},
          "output_type": "execute_result"
        }
      ],
      "source": [
        "len(data), data.size"
      ]
    },
    {
      "cell_type": "code",
      "execution_count": 22,
      "metadata": {
        "colab": {
          "base_uri": "https://localhost:8080/"
        },
        "id": "rEwYONsL-s3U",
        "outputId": "960d1ad2-6dda-40b4-8972-3fbdb887adb0"
      },
      "outputs": [
        {
          "name": "stdout",
          "output_type": "stream",
          "text": [
            "Requirement already satisfied: transformers in /Users/josegarza/opt/anaconda3/envs/ai/lib/python3.9/site-packages (4.24.0)\n",
            "Requirement already satisfied: pyyaml>=5.1 in /Users/josegarza/opt/anaconda3/envs/ai/lib/python3.9/site-packages (from transformers) (6.0)\n",
            "Requirement already satisfied: requests in /Users/josegarza/opt/anaconda3/envs/ai/lib/python3.9/site-packages (from transformers) (2.28.1)\n",
            "Requirement already satisfied: filelock in /Users/josegarza/opt/anaconda3/envs/ai/lib/python3.9/site-packages (from transformers) (3.8.0)\n",
            "Requirement already satisfied: packaging>=20.0 in /Users/josegarza/opt/anaconda3/envs/ai/lib/python3.9/site-packages (from transformers) (21.3)\n",
            "Requirement already satisfied: tqdm>=4.27 in /Users/josegarza/opt/anaconda3/envs/ai/lib/python3.9/site-packages (from transformers) (4.64.1)\n",
            "Requirement already satisfied: tokenizers!=0.11.3,<0.14,>=0.11.1 in /Users/josegarza/opt/anaconda3/envs/ai/lib/python3.9/site-packages (from transformers) (0.13.1)\n",
            "Requirement already satisfied: numpy>=1.17 in /Users/josegarza/opt/anaconda3/envs/ai/lib/python3.9/site-packages (from transformers) (1.23.4)\n",
            "Requirement already satisfied: regex!=2019.12.17 in /Users/josegarza/opt/anaconda3/envs/ai/lib/python3.9/site-packages (from transformers) (2022.10.31)\n",
            "Requirement already satisfied: huggingface-hub<1.0,>=0.10.0 in /Users/josegarza/opt/anaconda3/envs/ai/lib/python3.9/site-packages (from transformers) (0.11.1)\n",
            "Requirement already satisfied: typing-extensions>=3.7.4.3 in /Users/josegarza/opt/anaconda3/envs/ai/lib/python3.9/site-packages (from huggingface-hub<1.0,>=0.10.0->transformers) (4.3.0)\n",
            "Requirement already satisfied: pyparsing!=3.0.5,>=2.0.2 in /Users/josegarza/opt/anaconda3/envs/ai/lib/python3.9/site-packages (from packaging>=20.0->transformers) (3.0.9)\n",
            "Requirement already satisfied: urllib3<1.27,>=1.21.1 in /Users/josegarza/opt/anaconda3/envs/ai/lib/python3.9/site-packages (from requests->transformers) (1.26.12)\n",
            "Requirement already satisfied: idna<4,>=2.5 in /Users/josegarza/opt/anaconda3/envs/ai/lib/python3.9/site-packages (from requests->transformers) (3.4)\n",
            "Requirement already satisfied: certifi>=2017.4.17 in /Users/josegarza/opt/anaconda3/envs/ai/lib/python3.9/site-packages (from requests->transformers) (2022.9.24)\n",
            "Requirement already satisfied: charset-normalizer<3,>=2 in /Users/josegarza/opt/anaconda3/envs/ai/lib/python3.9/site-packages (from requests->transformers) (2.1.1)\n"
          ]
        }
      ],
      "source": [
        "\n",
        "import transformers as ppb"
      ]
    },
    {
      "cell_type": "code",
      "execution_count": 30,
      "metadata": {
        "id": "CLEnVUQuYtLO"
      },
      "outputs": [],
      "source": [
        "# Do BERT in parallel to compare baseline performance\n",
        "# For DistilBERT:\n",
        "model_class, tokenizer_class, pretrained_weights = (ppb.DistilBertModel, ppb.DistilBertTokenizer, 'distilbert-base-uncased')\n",
        "\n",
        "## Want BERT instead of distilBERT? Uncomment the following line:\n",
        "#model_class, tokenizer_class, pretrained_weights = (ppb.BertModel, ppb.BertTokenizer, 'bert-base-uncased')\n",
        "\n",
        "# Load pretrained model/tokenizer\n",
        "tokenizer = tokenizer_class.from_pretrained(pretrained_weights)\n",
        "model = model_class.from_pretrained(pretrained_weights)"
      ]
    },
    {
      "cell_type": "code",
      "execution_count": 38,
      "metadata": {},
      "outputs": [],
      "source": [
        "data['Comment'] = [d[:512] for d in data['Comment']]"
      ]
    },
    {
      "cell_type": "code",
      "execution_count": 39,
      "metadata": {
        "colab": {
          "base_uri": "https://localhost:8080/"
        },
        "id": "6-RTOQrjbJE1",
        "outputId": "a42c675e-e5b0-47e8-f2b6-f07343f69a70"
      },
      "outputs": [
        {
          "name": "stdout",
          "output_type": "stream",
          "text": [
            "0    [101, 2292, 1005, 1055, 2025, 5293, 2008, 6207...\n",
            "1    [101, 2182, 1999, 20008, 2753, 1003, 1997, 166...\n",
            "2    [101, 1045, 2097, 5091, 13399, 2023, 3149, 200...\n",
            "3    [101, 7188, 1045, 2175, 2000, 1037, 2173, 2008...\n",
            "4    [101, 6207, 3477, 2003, 2061, 14057, 1010, 585...\n",
            "Name: Comment, dtype: object\n",
            "max length: 220\n",
            "(2000, 220)\n",
            "(2000, 220)\n"
          ]
        }
      ],
      "source": [
        "tokenized = data['Comment'].apply((lambda x: tokenizer.encode(x, add_special_tokens=True)))\n",
        "print(tokenized.head())\n",
        "\n",
        "max_len = 0\n",
        "for i in tokenized.values:\n",
        "    if len(i) > max_len:\n",
        "        max_len = len(i)\n",
        "print(f'max length: {max_len}')\n",
        "padded = np.array([i + [0]*(max_len-len(i)) for i in tokenized.values])\n",
        "\n",
        "print(np.array(padded).shape)\n",
        "\n",
        "attention_mask = np.where(padded != 0, 1, 0)\n",
        "print(attention_mask.shape)\n",
        "\n"
      ]
    },
    {
      "cell_type": "code",
      "execution_count": 40,
      "metadata": {
        "colab": {
          "base_uri": "https://localhost:8080/"
        },
        "id": "rhmagIMhkzxz",
        "outputId": "be9b180c-8a5b-413a-dca6-a951e510c2d6"
      },
      "outputs": [
        {
          "name": "stdout",
          "output_type": "stream",
          "text": [
            "torch.Size([2000, 220]) and attention mask torch.Size([2000, 220])\n"
          ]
        }
      ],
      "source": [
        "input_ids = torch.tensor(padded)  \n",
        "attention_mask = torch.tensor(attention_mask)\n",
        "print(input_ids.shape, 'and attention mask', attention_mask.shape)\n"
      ]
    },
    {
      "cell_type": "code",
      "execution_count": 41,
      "metadata": {},
      "outputs": [
        {
          "name": "stdout",
          "output_type": "stream",
          "text": [
            "BaseModelOutput(last_hidden_state=tensor([[[-0.2169, -0.0120,  0.1842,  ..., -0.0969,  0.2240,  0.2883],\n",
            "         [ 0.6001,  0.0087, -0.3600,  ...,  0.5958,  0.9179,  0.0748],\n",
            "         [ 0.6494,  0.2704,  0.1773,  ...,  0.0274, -0.6515, -0.5479],\n",
            "         ...,\n",
            "         [ 0.3611, -0.1161,  0.1522,  ..., -0.1549,  0.0874, -0.1951],\n",
            "         [ 0.3898, -0.1102,  0.0749,  ..., -0.1123,  0.1440, -0.1480],\n",
            "         [ 0.1864, -0.0331,  0.2606,  ..., -0.0258, -0.0077,  0.0106]],\n",
            "\n",
            "        [[ 0.1879,  0.0964,  0.1107,  ..., -0.1540,  0.2709,  0.2552],\n",
            "         [ 0.0984, -0.0045,  0.0033,  ..., -0.5164,  0.5890, -0.1974],\n",
            "         [-0.5278, -0.2923, -0.0118,  ..., -0.6042,  0.4823, -0.0134],\n",
            "         ...,\n",
            "         [-0.0121, -0.1040,  0.2879,  ...,  0.0171, -0.1603, -0.1885],\n",
            "         [ 0.0561,  0.0096,  0.3557,  ...,  0.0080, -0.1291, -0.1157],\n",
            "         [ 0.2713,  0.1795,  0.3303,  ...,  0.0824, -0.2637, -0.0871]],\n",
            "\n",
            "        [[ 0.0946, -0.0018,  0.2023,  ...,  0.0259,  0.2072,  0.2315],\n",
            "         [ 0.6155,  0.1400,  0.2609,  ...,  0.0818,  0.5070,  0.2433],\n",
            "         [ 0.7565,  0.2645,  0.8927,  ...,  0.0887,  0.3069, -0.2396],\n",
            "         ...,\n",
            "         [ 0.1197,  0.1014,  0.3000,  ..., -0.1153, -0.1102,  0.0062],\n",
            "         [ 0.1241, -0.0113,  0.4151,  ...,  0.2594, -0.0953, -0.1099],\n",
            "         [ 0.1419,  0.0790,  0.3325,  ..., -0.1451, -0.1087,  0.1163]],\n",
            "\n",
            "        ...,\n",
            "\n",
            "        [[-0.2919,  0.0163,  0.0778,  ..., -0.1281,  0.2699,  0.1314],\n",
            "         [-0.0670,  0.5277,  0.7576,  ...,  0.0345,  0.3010, -0.0169],\n",
            "         [ 0.1387, -0.1667,  0.0637,  ...,  0.0871,  0.3634, -0.2612],\n",
            "         ...,\n",
            "         [-0.1638, -0.0421,  0.1980,  ..., -0.0813,  0.0831, -0.1261],\n",
            "         [-0.1651, -0.0025,  0.2377,  ...,  0.0070,  0.1228, -0.1613],\n",
            "         [-0.0948, -0.1449,  0.1899,  ...,  0.2332,  0.0557, -0.2039]],\n",
            "\n",
            "        [[ 0.0192, -0.0883,  0.2812,  ..., -0.1675,  0.2955,  0.3143],\n",
            "         [ 0.6870, -0.1834,  0.2203,  ..., -0.3750,  0.6126,  0.4013],\n",
            "         [ 0.2030,  0.1732,  0.2561,  ..., -0.4522,  0.0915, -0.3110],\n",
            "         ...,\n",
            "         [-0.0080, -0.0209,  0.1332,  ..., -0.1199,  0.0189, -0.0844],\n",
            "         [ 0.1227,  0.0357,  0.2412,  ..., -0.2035,  0.1656,  0.2565],\n",
            "         [ 0.3458,  0.0771,  0.8220,  ..., -0.3225, -0.0061,  0.1043]],\n",
            "\n",
            "        [[ 0.0784, -0.0651,  0.1223,  ...,  0.0398,  0.4566,  0.4584],\n",
            "         [-0.0344,  0.0711,  0.4182,  ...,  0.2800,  0.5609,  0.1233],\n",
            "         [-0.5834, -0.0542,  0.4318,  ...,  0.0501,  0.0283,  0.1588],\n",
            "         ...,\n",
            "         [ 0.2167, -0.0839,  0.4818,  ...,  0.1250, -0.0822,  0.2146],\n",
            "         [ 0.1721, -0.1521,  0.4526,  ...,  0.1652, -0.0798,  0.2430],\n",
            "         [ 0.1823, -0.1786,  0.4333,  ...,  0.1747, -0.1054,  0.2875]]]), hidden_states=None, attentions=None)\n"
          ]
        }
      ],
      "source": [
        "with torch.no_grad():\n",
        "    last_hidden_states = model(input_ids, attention_mask=attention_mask)\n",
        "    print(last_hidden_states)\n",
        "features = last_hidden_states[0][:,0,:].numpy()"
      ]
    },
    {
      "cell_type": "code",
      "execution_count": 42,
      "metadata": {
        "id": "ZmjSIgM8eXp9"
      },
      "outputs": [
        {
          "name": "stdout",
          "output_type": "stream",
          "text": [
            "0.9225\n"
          ]
        }
      ],
      "source": [
        "lr_clf = LogisticRegression()\n",
        "clf = lr_clf.fit(features,data['Label'])\n",
        "data['Bert'] = clf.predict(features)\n",
        "data.head()\n",
        "print(lr_clf.score(features, data['Label']))"
      ]
    },
    {
      "cell_type": "code",
      "execution_count": 43,
      "metadata": {
        "id": "nidb3peSM5EY"
      },
      "outputs": [
        {
          "name": "stdout",
          "output_type": "stream",
          "text": [
            "TextBlob Confusion Matrix\n",
            "[[569 335]\n",
            " [201 895]]\n",
            "accuracy =  0.732\n",
            "Vader Confusion Matrix\n",
            "[[ 302  602]\n",
            " [  62 1034]]\n",
            "accuracy =  0.668\n",
            "BERT Confusion Matrix\n",
            "[[ 836   68]\n",
            " [  87 1009]]\n",
            "accuracy =  0.9225\n",
            "Flair Confusion Matrix\n",
            "[[518 386]\n",
            " [102 994]]\n",
            "accuracy =  0.756\n"
          ]
        }
      ],
      "source": [
        "print('TextBlob Confusion Matrix')\n",
        "print(confusion_matrix(data['Label'],data['TextBlob']))\n",
        "textBlobAcc = accuracy_score(data['Label'],data['TextBlob'])\n",
        "print('accuracy = ', textBlobAcc)\n",
        "\n",
        "print('Vader Confusion Matrix')\n",
        "print(confusion_matrix(data['Label'],data['Vader']))\n",
        "vaderAcc = accuracy_score(data['Label'],data['Vader'])\n",
        "print('accuracy = ',vaderAcc)\n",
        "\n",
        "print('BERT Confusion Matrix')\n",
        "print(confusion_matrix(data['Label'],data['Bert']))\n",
        "bertAcc = accuracy_score(data['Label'],data['Bert'])\n",
        "print('accuracy = ',bertAcc)\n",
        "\n",
        "print('Flair Confusion Matrix')\n",
        "print(confusion_matrix(data['Label'],data['FlairScore']))\n",
        "flairAcc = accuracy_score(data['Label'],data['FlairScore'])\n",
        "print('accuracy = ',flairAcc)\n",
        "\n",
        "names = ['TextBlob','Vader', 'BERT', 'Flair']\n",
        "accuracies = [textBlobAcc,vaderAcc, bertAcc, flairAcc]"
      ]
    },
    {
      "cell_type": "code",
      "execution_count": 48,
      "metadata": {
        "id": "pIdsihP0n_m4"
      },
      "outputs": [
        {
          "name": "stdout",
          "output_type": "stream",
          "text": [
            "[0.732, 0.668, 0.9225, 0.756]\n"
          ]
        },
        {
          "data": {
            "text/plain": [
              "<BarContainer object of 4 artists>"
            ]
          },
          "execution_count": 48,
          "metadata": {},
          "output_type": "execute_result"
        },
        {
          "data": {
            "image/png": "[encoded data removed]",
            "text/plain": [
              "<Figure size 640x480 with 1 Axes>"
            ]
          },
          "metadata": {},
          "output_type": "display_data"
        }
      ],
      "source": [
        "import matplotlib.pyplot as plt\n",
        "\n",
        "plt.title('Baseline Model Accuracy with No Training')\n",
        "print(accuracies)\n",
        "plt.bar(names,accuracies)"
      ]
    },
    {
      "cell_type": "code",
      "execution_count": 46,
      "metadata": {
        "id": "iz6QeXiMILkY"
      },
      "outputs": [
        {
          "data": {
            "text/plain": [
              "[0.732, 0.668, 0.9225, 0.756]"
            ]
          },
          "execution_count": 46,
          "metadata": {},
          "output_type": "execute_result"
        }
      ],
      "source": []
    }
  ],
  "metadata": {
    "colab": {
      "authorship_tag": "ABX9TyMSEXVsOJvPQpVxejqCp15Q",
      "include_colab_link": true,
      "provenance": []
    },
    "kernelspec": {
      "display_name": "Python 3",
      "name": "python3"
    },
    "language_info": {
      "name": "python"
    }
  },
  "nbformat": 4,
  "nbformat_minor": 0
}
