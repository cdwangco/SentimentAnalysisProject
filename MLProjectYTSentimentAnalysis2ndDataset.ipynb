{
  "cells": [
    {
      "cell_type": "markdown",
      "metadata": {
        "colab_type": "text",
        "id": "view-in-github"
      },
      "source": [
        "<a href=\"https://colab.research.google.com/github/cdwangco/SentimentAnalysisProject/blob/main/MLProjectYTSentimentAnalysis2ndDataset.ipynb\" target=\"_parent\"><img src=\"https://colab.research.google.com/assets/colab-badge.svg\" alt=\"Open In Colab\"/></a>"
      ]
    },
    {
      "cell_type": "code",
      "execution_count": 1,
      "metadata": {
        "id": "7mzprkQCAfJZ"
      },
      "outputs": [
        {
          "name": "stderr",
          "output_type": "stream",
          "text": [
            "/Users/josegarza/opt/anaconda3/envs/ai/lib/python3.9/site-packages/tqdm/auto.py:22: TqdmWarning: IProgress not found. Please update jupyter and ipywidgets. See https://ipywidgets.readthedocs.io/en/stable/user_install.html\n",
            "  from .autonotebook import tqdm as notebook_tqdm\n",
            "2022-12-02 13:21:43.615860: I tensorflow/core/platform/cpu_feature_guard.cc:193] This TensorFlow binary is optimized with oneAPI Deep Neural Network Library (oneDNN) to use the following CPU instructions in performance-critical operations:  AVX2 FMA\n",
            "To enable them in other operations, rebuild TensorFlow with the appropriate compiler flags.\n"
          ]
        }
      ],
      "source": [
        "import numpy as np\n",
        "import pandas as pd\n",
        "from sklearn.model_selection import train_test_split\n",
        "from sklearn.linear_model import LogisticRegression\n",
        "from sklearn.model_selection import GridSearchCV\n",
        "from sklearn.model_selection import cross_val_score\n",
        "import torch\n",
        "import warnings\n",
        "warnings.filterwarnings('ignore')\n",
        "from vaderSentiment.vaderSentiment import SentimentIntensityAnalyzer\n",
        "from scipy.stats.stats import RanksumsResult\n",
        "# Evaluate the test using Flair baseline\n",
        "from flair.models import TextClassifier\n",
        "from flair.data import Sentence\n",
        "from textblob import TextBlob\n",
        "from sklearn.metrics import confusion_matrix, accuracy_score\n",
        "import transformers as ppb\n",
        "import matplotlib.pyplot as plt\n"
      ]
    },
    {
      "cell_type": "code",
      "execution_count": 2,
      "metadata": {
        "id": "vzWl4jnGSTyG"
      },
      "outputs": [],
      "source": [
        "df = pd.read_csv('data/comments.csv')"
      ]
    },
    {
      "cell_type": "code",
      "execution_count": 3,
      "metadata": {
        "colab": {
          "base_uri": "https://localhost:8080/"
        },
        "id": "J1vbWnNTCZLM",
        "outputId": "dc2a402a-a526-4b44-cf95-638966cf5877"
      },
      "outputs": [
        {
          "name": "stdout",
          "output_type": "stream",
          "text": [
            "   Unnamed: 0     Video ID                                            Comment  \\\n",
            "0           0  wAZZ-UWGVHI  Let's not forget that Apple Pay in 2014 requir...   \n",
            "1           1  wAZZ-UWGVHI  Here in NZ 50% of retailers don’t even have co...   \n",
            "2           2  wAZZ-UWGVHI  I will forever acknowledge this channel with t...   \n",
            "3           3  wAZZ-UWGVHI  Whenever I go to a place that doesn’t take App...   \n",
            "4           4  wAZZ-UWGVHI  Apple Pay is so convenient, secure, and easy t...   \n",
            "\n",
            "   Likes  Sentiment  \n",
            "0   95.0        1.0  \n",
            "1   19.0        0.0  \n",
            "2  161.0        2.0  \n",
            "3    8.0        0.0  \n",
            "4   34.0        2.0  \n",
            "2.0    1096\n",
            "1.0     556\n",
            "0.0     348\n",
            "Name: Sentiment, dtype: int64\n"
          ]
        }
      ],
      "source": [
        "print(df.head())\n",
        "df = df[:2000]\n",
        "print(df['Sentiment'].value_counts()) #we have a balanced data set"
      ]
    },
    {
      "cell_type": "code",
      "execution_count": 4,
      "metadata": {
        "id": "nKR8eZ3lTfk2"
      },
      "outputs": [],
      "source": [
        "df = df.iloc[:,[2,4]]"
      ]
    },
    {
      "cell_type": "code",
      "execution_count": 5,
      "metadata": {
        "colab": {
          "base_uri": "https://localhost:8080/",
          "height": 424
        },
        "id": "JkmWurreVn_y",
        "outputId": "3d0debe0-6364-4c98-bdbe-632d5db8aca4"
      },
      "outputs": [],
      "source": [
        "df['1'] = df['Sentiment'].apply(lambda x: 0 if x <= 1 else 1)\n",
        "df = df.iloc[:,[0,2]]"
      ]
    },
    {
      "cell_type": "code",
      "execution_count": 6,
      "metadata": {
        "colab": {
          "base_uri": "https://localhost:8080/",
          "height": 424
        },
        "id": "P0usDrenWhzM",
        "outputId": "0fba3037-27ef-461e-b794-f1456c56eb57"
      },
      "outputs": [],
      "source": [
        "df = df.rename(columns={'Comment': 0})"
      ]
    },
    {
      "cell_type": "code",
      "execution_count": 7,
      "metadata": {
        "id": "9P5Rvhb7EGrQ"
      },
      "outputs": [],
      "source": [
        "analyzer = SentimentIntensityAnalyzer()\n",
        "\n",
        "def getVader(text):\n",
        "  score = analyzer.polarity_scores(text)\n",
        "  return 1 if score['compound'] >= 0 else 0\n"
      ]
    },
    {
      "cell_type": "code",
      "execution_count": 8,
      "metadata": {
        "colab": {
          "base_uri": "https://localhost:8080/",
          "height": 206
        },
        "id": "yX-mN0uCFds4",
        "outputId": "187e544e-0210-4027-9ea4-c33851768b3e"
      },
      "outputs": [
        {
          "data": {
            "text/html": [
              "<div>\n",
              "<style scoped>\n",
              "    .dataframe tbody tr th:only-of-type {\n",
              "        vertical-align: middle;\n",
              "    }\n",
              "\n",
              "    .dataframe tbody tr th {\n",
              "        vertical-align: top;\n",
              "    }\n",
              "\n",
              "    .dataframe thead th {\n",
              "        text-align: right;\n",
              "    }\n",
              "</style>\n",
              "<table border=\"1\" class=\"dataframe\">\n",
              "  <thead>\n",
              "    <tr style=\"text-align: right;\">\n",
              "      <th></th>\n",
              "      <th>0</th>\n",
              "      <th>1</th>\n",
              "      <th>Vader</th>\n",
              "    </tr>\n",
              "  </thead>\n",
              "  <tbody>\n",
              "    <tr>\n",
              "      <th>0</th>\n",
              "      <td>Let's not forget that Apple Pay in 2014 requir...</td>\n",
              "      <td>0</td>\n",
              "      <td>1</td>\n",
              "    </tr>\n",
              "    <tr>\n",
              "      <th>1</th>\n",
              "      <td>Here in NZ 50% of retailers don’t even have co...</td>\n",
              "      <td>0</td>\n",
              "      <td>1</td>\n",
              "    </tr>\n",
              "    <tr>\n",
              "      <th>2</th>\n",
              "      <td>I will forever acknowledge this channel with t...</td>\n",
              "      <td>1</td>\n",
              "      <td>1</td>\n",
              "    </tr>\n",
              "    <tr>\n",
              "      <th>3</th>\n",
              "      <td>Whenever I go to a place that doesn’t take App...</td>\n",
              "      <td>0</td>\n",
              "      <td>0</td>\n",
              "    </tr>\n",
              "    <tr>\n",
              "      <th>4</th>\n",
              "      <td>Apple Pay is so convenient, secure, and easy t...</td>\n",
              "      <td>1</td>\n",
              "      <td>1</td>\n",
              "    </tr>\n",
              "  </tbody>\n",
              "</table>\n",
              "</div>"
            ],
            "text/plain": [
              "                                                   0  1  Vader\n",
              "0  Let's not forget that Apple Pay in 2014 requir...  0      1\n",
              "1  Here in NZ 50% of retailers don’t even have co...  0      1\n",
              "2  I will forever acknowledge this channel with t...  1      1\n",
              "3  Whenever I go to a place that doesn’t take App...  0      0\n",
              "4  Apple Pay is so convenient, secure, and easy t...  1      1"
            ]
          },
          "execution_count": 8,
          "metadata": {},
          "output_type": "execute_result"
        }
      ],
      "source": [
        "df['Vader'] = df[0].apply(getVader)\n",
        "df.head()"
      ]
    },
    {
      "cell_type": "code",
      "execution_count": 9,
      "metadata": {
        "colab": {
          "base_uri": "https://localhost:8080/"
        },
        "id": "vhdsO5WBoiR2",
        "outputId": "b0ca0c65-b1c0-4e60-f823-d47824be6d76"
      },
      "outputs": [
        {
          "name": "stdout",
          "output_type": "stream",
          "text": [
            "2022-12-02 13:21:53,743 loading file /Users/josegarza/.flair/models/sentiment-en-mix-distillbert_4.pt\n"
          ]
        }
      ],
      "source": [
        "classifier = TextClassifier.load('en-sentiment')"
      ]
    },
    {
      "cell_type": "code",
      "execution_count": 10,
      "metadata": {
        "id": "bhlim6En6UkU"
      },
      "outputs": [],
      "source": [
        "def predict(sentence):\n",
        "    \"\"\" Predict the sentiment of a sentence \"\"\"\n",
        "    if sentence == \"\":\n",
        "        return 0\n",
        "    text = Sentence(sentence)\n",
        "    # stacked_embeddings.embed(text)\n",
        "    classifier.predict(text)\n",
        "    value = text.labels[0].to_dict()['value']\n",
        "    return 0 if value == 'NEGATIVE' else 1\n",
        "\n",
        "def flairPredict(sentence):\n",
        "  result = predict(sentence)\n",
        "  return result"
      ]
    },
    {
      "cell_type": "code",
      "execution_count": 11,
      "metadata": {
        "colab": {
          "base_uri": "https://localhost:8080/"
        },
        "id": "MJHbNBivkV2S",
        "outputId": "807edf94-cd44-40b3-b1e4-b18b209a6126"
      },
      "outputs": [
        {
          "name": "stdout",
          "output_type": "stream",
          "text": [
            "2000\n"
          ]
        }
      ],
      "source": [
        "\n",
        "df['FlairScore'] = df[0].apply(flairPredict)\n",
        "df.head()\n",
        "print(len(df))"
      ]
    },
    {
      "cell_type": "code",
      "execution_count": 12,
      "metadata": {
        "id": "fTE0CQjKDhnB"
      },
      "outputs": [],
      "source": [
        "def getSubj(text):\n",
        "  return TextBlob(text).sentiment.subjectivity\n",
        "\n",
        "def getPol(text):\n",
        "  return TextBlob(text).sentiment.polarity\n",
        "\n",
        "def binarize(float):\n",
        "  return 1 if float > 0 else 0"
      ]
    },
    {
      "cell_type": "code",
      "execution_count": 13,
      "metadata": {
        "colab": {
          "base_uri": "https://localhost:8080/",
          "height": 337
        },
        "id": "R4WFDQshPg7Q",
        "outputId": "ef8e7dee-9ca6-4a37-d9f2-755dfa82e7d6"
      },
      "outputs": [
        {
          "data": {
            "text/html": [
              "<div>\n",
              "<style scoped>\n",
              "    .dataframe tbody tr th:only-of-type {\n",
              "        vertical-align: middle;\n",
              "    }\n",
              "\n",
              "    .dataframe tbody tr th {\n",
              "        vertical-align: top;\n",
              "    }\n",
              "\n",
              "    .dataframe thead th {\n",
              "        text-align: right;\n",
              "    }\n",
              "</style>\n",
              "<table border=\"1\" class=\"dataframe\">\n",
              "  <thead>\n",
              "    <tr style=\"text-align: right;\">\n",
              "      <th></th>\n",
              "      <th>Comment</th>\n",
              "      <th>Label</th>\n",
              "      <th>Vader</th>\n",
              "      <th>FlairScore</th>\n",
              "      <th>Polarity</th>\n",
              "      <th>TextBlob</th>\n",
              "    </tr>\n",
              "  </thead>\n",
              "  <tbody>\n",
              "    <tr>\n",
              "      <th>0</th>\n",
              "      <td>Let's not forget that Apple Pay in 2014 requir...</td>\n",
              "      <td>0</td>\n",
              "      <td>1</td>\n",
              "      <td>0</td>\n",
              "      <td>0.075606</td>\n",
              "      <td>1</td>\n",
              "    </tr>\n",
              "    <tr>\n",
              "      <th>1</th>\n",
              "      <td>Here in NZ 50% of retailers don’t even have co...</td>\n",
              "      <td>0</td>\n",
              "      <td>1</td>\n",
              "      <td>0</td>\n",
              "      <td>0.160000</td>\n",
              "      <td>1</td>\n",
              "    </tr>\n",
              "    <tr>\n",
              "      <th>2</th>\n",
              "      <td>I will forever acknowledge this channel with t...</td>\n",
              "      <td>1</td>\n",
              "      <td>1</td>\n",
              "      <td>1</td>\n",
              "      <td>0.000000</td>\n",
              "      <td>0</td>\n",
              "    </tr>\n",
              "    <tr>\n",
              "      <th>3</th>\n",
              "      <td>Whenever I go to a place that doesn’t take App...</td>\n",
              "      <td>0</td>\n",
              "      <td>0</td>\n",
              "      <td>0</td>\n",
              "      <td>-0.183333</td>\n",
              "      <td>0</td>\n",
              "    </tr>\n",
              "    <tr>\n",
              "      <th>4</th>\n",
              "      <td>Apple Pay is so convenient, secure, and easy t...</td>\n",
              "      <td>1</td>\n",
              "      <td>1</td>\n",
              "      <td>1</td>\n",
              "      <td>0.208333</td>\n",
              "      <td>1</td>\n",
              "    </tr>\n",
              "  </tbody>\n",
              "</table>\n",
              "</div>"
            ],
            "text/plain": [
              "                                             Comment  Label  Vader  \\\n",
              "0  Let's not forget that Apple Pay in 2014 requir...      0      1   \n",
              "1  Here in NZ 50% of retailers don’t even have co...      0      1   \n",
              "2  I will forever acknowledge this channel with t...      1      1   \n",
              "3  Whenever I go to a place that doesn’t take App...      0      0   \n",
              "4  Apple Pay is so convenient, secure, and easy t...      1      1   \n",
              "\n",
              "   FlairScore  Polarity  TextBlob  \n",
              "0           0  0.075606         1  \n",
              "1           0  0.160000         1  \n",
              "2           1  0.000000         0  \n",
              "3           0 -0.183333         0  \n",
              "4           1  0.208333         1  "
            ]
          },
          "execution_count": 13,
          "metadata": {},
          "output_type": "execute_result"
        }
      ],
      "source": [
        "\n",
        "data = df.rename(columns={0: 'Comment', '1':'Label'})\n",
        "data['Polarity'] = data['Comment'].apply(getPol)\n",
        "data['TextBlob'] = data['Polarity'].apply(binarize)\n",
        "data.head()"
      ]
    },
    {
      "cell_type": "code",
      "execution_count": 14,
      "metadata": {
        "id": "CLEnVUQuYtLO"
      },
      "outputs": [],
      "source": [
        "# Do BERT in parallel to compare baseline performance\n",
        "# For DistilBERT:\n",
        "model_class, tokenizer_class, pretrained_weights = (ppb.DistilBertModel, ppb.DistilBertTokenizer, 'distilbert-base-uncased')\n",
        "\n",
        "## Want BERT instead of distilBERT? Uncomment the following line:\n",
        "#model_class, tokenizer_class, pretrained_weights = (ppb.BertModel, ppb.BertTokenizer, 'bert-base-uncased')\n",
        "\n",
        "# Load pretrained model/tokenizer\n",
        "tokenizer = tokenizer_class.from_pretrained(pretrained_weights)\n",
        "model = model_class.from_pretrained(pretrained_weights)"
      ]
    },
    {
      "cell_type": "code",
      "execution_count": 15,
      "metadata": {},
      "outputs": [],
      "source": [
        "data['Comment'] = [d[:1024] for d in data['Comment']]"
      ]
    },
    {
      "cell_type": "code",
      "execution_count": 16,
      "metadata": {
        "colab": {
          "base_uri": "https://localhost:8080/"
        },
        "id": "6-RTOQrjbJE1",
        "outputId": "a42c675e-e5b0-47e8-f2b6-f07343f69a70"
      },
      "outputs": [
        {
          "name": "stdout",
          "output_type": "stream",
          "text": [
            "0    [101, 2292, 1005, 1055, 2025, 5293, 2008, 6207...\n",
            "1    [101, 2182, 1999, 20008, 2753, 1003, 1997, 166...\n",
            "2    [101, 1045, 2097, 5091, 13399, 2023, 3149, 200...\n",
            "3    [101, 7188, 1045, 2175, 2000, 1037, 2173, 2008...\n",
            "4    [101, 6207, 3477, 2003, 2061, 14057, 1010, 585...\n",
            "Name: Comment, dtype: object\n",
            "max length: 330\n",
            "(2000, 330)\n",
            "(2000, 330)\n"
          ]
        }
      ],
      "source": [
        "tokenized = data['Comment'].apply((lambda x: tokenizer.encode(x, add_special_tokens=True)))\n",
        "print(tokenized.head())\n",
        "\n",
        "max_len = 0\n",
        "for i in tokenized.values:\n",
        "    if len(i) > max_len:\n",
        "        max_len = len(i)\n",
        "print(f'max length: {max_len}')\n",
        "padded = np.array([i + [0]*(max_len-len(i)) for i in tokenized.values])\n",
        "\n",
        "print(np.array(padded).shape)\n",
        "\n",
        "attention_mask = np.where(padded != 0, 1, 0)\n",
        "print(attention_mask.shape)"
      ]
    },
    {
      "cell_type": "markdown",
      "metadata": {},
      "source": []
    },
    {
      "cell_type": "code",
      "execution_count": 17,
      "metadata": {
        "colab": {
          "base_uri": "https://localhost:8080/"
        },
        "id": "rhmagIMhkzxz",
        "outputId": "be9b180c-8a5b-413a-dca6-a951e510c2d6"
      },
      "outputs": [
        {
          "name": "stdout",
          "output_type": "stream",
          "text": [
            "torch.Size([2000, 330]) and attention mask torch.Size([2000, 330])\n"
          ]
        }
      ],
      "source": [
        "input_ids = torch.tensor(padded)  \n",
        "attention_mask = torch.tensor(attention_mask)\n",
        "print(input_ids.shape, 'and attention mask', attention_mask.shape)"
      ]
    },
    {
      "cell_type": "code",
      "execution_count": 18,
      "metadata": {},
      "outputs": [
        {
          "name": "stdout",
          "output_type": "stream",
          "text": [
            "BaseModelOutput(last_hidden_state=tensor([[[-2.1693e-01, -1.2050e-02,  1.8420e-01,  ..., -9.6947e-02,\n",
            "           2.2397e-01,  2.8831e-01],\n",
            "         [ 6.0008e-01,  8.7192e-03, -3.5998e-01,  ...,  5.9583e-01,\n",
            "           9.1790e-01,  7.4841e-02],\n",
            "         [ 6.4942e-01,  2.7043e-01,  1.7726e-01,  ...,  2.7444e-02,\n",
            "          -6.5146e-01, -5.4791e-01],\n",
            "         ...,\n",
            "         [ 2.7058e-01,  1.4919e-01,  2.4826e-01,  ..., -8.0993e-02,\n",
            "          -1.1414e-01,  1.0607e-01],\n",
            "         [ 3.2488e-01,  1.0074e-01,  2.0944e-01,  ...,  2.2527e-02,\n",
            "          -2.5998e-01, -5.5139e-02],\n",
            "         [ 3.9866e-01,  1.7699e-01,  2.2658e-01,  ..., -3.2192e-02,\n",
            "          -2.4821e-01, -7.7290e-02]],\n",
            "\n",
            "        [[ 1.8788e-01,  9.6403e-02,  1.1071e-01,  ..., -1.5396e-01,\n",
            "           2.7091e-01,  2.5518e-01],\n",
            "         [ 9.8387e-02, -4.5446e-03,  3.3212e-03,  ..., -5.1635e-01,\n",
            "           5.8905e-01, -1.9741e-01],\n",
            "         [-5.2779e-01, -2.9226e-01, -1.1803e-02,  ..., -6.0419e-01,\n",
            "           4.8230e-01, -1.3399e-02],\n",
            "         ...,\n",
            "         [ 2.7637e-01, -5.1621e-03,  3.8683e-01,  ..., -1.1392e-01,\n",
            "          -1.4478e-01,  5.6638e-02],\n",
            "         [ 3.4425e-01, -3.7237e-02,  3.9685e-01,  ..., -8.1194e-02,\n",
            "          -1.7280e-01,  1.3307e-02],\n",
            "         [ 2.9672e-01, -2.0975e-02,  3.9487e-01,  ..., -5.4526e-02,\n",
            "          -1.5717e-01,  3.9822e-02]],\n",
            "\n",
            "        [[ 9.4580e-02, -1.8037e-03,  2.0230e-01,  ...,  2.5923e-02,\n",
            "           2.0723e-01,  2.3146e-01],\n",
            "         [ 6.1547e-01,  1.4002e-01,  2.6087e-01,  ...,  8.1842e-02,\n",
            "           5.0701e-01,  2.4333e-01],\n",
            "         [ 7.5652e-01,  2.6454e-01,  8.9270e-01,  ...,  8.8656e-02,\n",
            "           3.0687e-01, -2.3962e-01],\n",
            "         ...,\n",
            "         [ 9.9963e-02,  3.7276e-01,  4.4163e-01,  ..., -7.3035e-02,\n",
            "           6.9225e-02, -3.8871e-02],\n",
            "         [ 8.6101e-03,  1.1111e-01,  3.3681e-01,  ..., -1.2834e-01,\n",
            "          -6.3898e-02,  5.1933e-02],\n",
            "         [ 1.4142e-01,  1.5867e-01,  2.3188e-01,  ...,  1.4667e-01,\n",
            "          -1.6596e-01,  2.4637e-02]],\n",
            "\n",
            "        ...,\n",
            "\n",
            "        [[-2.9194e-01,  1.6297e-02,  7.7847e-02,  ..., -1.2805e-01,\n",
            "           2.6989e-01,  1.3139e-01],\n",
            "         [-6.6979e-02,  5.2774e-01,  7.5763e-01,  ...,  3.4474e-02,\n",
            "           3.0100e-01, -1.6868e-02],\n",
            "         [ 1.3874e-01, -1.6668e-01,  6.3720e-02,  ...,  8.7056e-02,\n",
            "           3.6336e-01, -2.6115e-01],\n",
            "         ...,\n",
            "         [-2.1992e-01,  8.7855e-03,  9.3096e-02,  ...,  1.4791e-01,\n",
            "          -2.2370e-02, -1.6436e-01],\n",
            "         [-1.5622e-01, -3.8517e-02,  8.7203e-02,  ...,  2.2160e-01,\n",
            "          -6.2132e-02, -1.8651e-01],\n",
            "         [-7.5366e-02,  2.2158e-01,  3.1588e-01,  ..., -2.0856e-02,\n",
            "          -5.3190e-02, -2.5909e-01]],\n",
            "\n",
            "        [[ 1.9248e-02, -8.8283e-02,  2.8125e-01,  ..., -1.6751e-01,\n",
            "           2.9552e-01,  3.1431e-01],\n",
            "         [ 6.8699e-01, -1.8341e-01,  2.2034e-01,  ..., -3.7501e-01,\n",
            "           6.1263e-01,  4.0129e-01],\n",
            "         [ 2.0299e-01,  1.7317e-01,  2.5612e-01,  ..., -4.5220e-01,\n",
            "           9.1456e-02, -3.1104e-01],\n",
            "         ...,\n",
            "         [-2.9299e-01, -8.9547e-03,  3.3483e-01,  ..., -2.3560e-01,\n",
            "          -1.3894e-02, -5.0029e-02],\n",
            "         [-2.7385e-01, -1.7801e-01,  3.6318e-01,  ..., -1.0886e-01,\n",
            "          -6.4644e-02,  1.5073e-01],\n",
            "         [-1.9532e-01, -1.5464e-01,  1.9009e-01,  ...,  9.2737e-02,\n",
            "          -4.7776e-02,  5.9896e-02]],\n",
            "\n",
            "        [[ 7.8403e-02, -6.5145e-02,  1.2234e-01,  ...,  3.9828e-02,\n",
            "           4.5659e-01,  4.5843e-01],\n",
            "         [-3.4393e-02,  7.1095e-02,  4.1825e-01,  ...,  2.8003e-01,\n",
            "           5.6094e-01,  1.2332e-01],\n",
            "         [-5.8337e-01, -5.4172e-02,  4.3178e-01,  ...,  5.0081e-02,\n",
            "           2.8250e-02,  1.5884e-01],\n",
            "         ...,\n",
            "         [ 1.5559e-01,  1.8019e-02,  3.1744e-01,  ...,  2.2727e-02,\n",
            "          -1.3238e-01, -1.9926e-03],\n",
            "         [ 2.6574e-01,  1.8259e-01,  5.5458e-01,  ...,  1.7270e-01,\n",
            "          -1.2286e-01, -8.6153e-04],\n",
            "         [ 2.4211e-01,  2.1399e-01,  5.5803e-01,  ...,  1.9811e-01,\n",
            "          -1.0746e-01,  3.5733e-02]]]), hidden_states=None, attentions=None)\n"
          ]
        }
      ],
      "source": [
        "with torch.no_grad():\n",
        "    last_hidden_states = model(input_ids, attention_mask=attention_mask)\n",
        "    print(last_hidden_states)\n",
        "features = last_hidden_states[0][:,0,:].numpy()"
      ]
    },
    {
      "cell_type": "code",
      "execution_count": 19,
      "metadata": {
        "id": "ZmjSIgM8eXp9"
      },
      "outputs": [
        {
          "name": "stdout",
          "output_type": "stream",
          "text": [
            "0.9225\n"
          ]
        }
      ],
      "source": [
        "lr_clf = LogisticRegression()\n",
        "clf = lr_clf.fit(features,data['Label'])\n",
        "data['Bert'] = clf.predict(features)\n",
        "data.head()\n",
        "print(lr_clf.score(features, data['Label']))"
      ]
    },
    {
      "cell_type": "code",
      "execution_count": 20,
      "metadata": {
        "id": "nidb3peSM5EY"
      },
      "outputs": [
        {
          "name": "stdout",
          "output_type": "stream",
          "text": [
            "TextBlob Confusion Matrix\n",
            "[[569 335]\n",
            " [201 895]]\n",
            "accuracy =  0.732\n",
            "Vader Confusion Matrix\n",
            "[[ 302  602]\n",
            " [  62 1034]]\n",
            "accuracy =  0.668\n",
            "BERT Confusion Matrix\n",
            "[[ 833   71]\n",
            " [  84 1012]]\n",
            "accuracy =  0.9225\n",
            "Flair Confusion Matrix\n",
            "[[518 386]\n",
            " [102 994]]\n",
            "accuracy =  0.756\n"
          ]
        }
      ],
      "source": [
        "print('TextBlob Confusion Matrix')\n",
        "print(confusion_matrix(data['Label'],data['TextBlob']))\n",
        "textBlobAcc = accuracy_score(data['Label'],data['TextBlob'])\n",
        "print('accuracy = ', textBlobAcc)\n",
        "\n",
        "print('Vader Confusion Matrix')\n",
        "print(confusion_matrix(data['Label'],data['Vader']))\n",
        "vaderAcc = accuracy_score(data['Label'],data['Vader'])\n",
        "print('accuracy = ',vaderAcc)\n",
        "\n",
        "print('BERT Confusion Matrix')\n",
        "print(confusion_matrix(data['Label'],data['Bert']))\n",
        "bertAcc = accuracy_score(data['Label'],data['Bert'])\n",
        "print('accuracy = ',bertAcc)\n",
        "\n",
        "print('Flair Confusion Matrix')\n",
        "print(confusion_matrix(data['Label'],data['FlairScore']))\n",
        "flairAcc = accuracy_score(data['Label'],data['FlairScore'])\n",
        "print('accuracy = ',flairAcc)\n",
        "\n",
        "names = ['TextBlob','Vader', 'BERT', 'Flair']\n",
        "accuracies = [textBlobAcc,vaderAcc, bertAcc, flairAcc]"
      ]
    },
    {
      "cell_type": "code",
      "execution_count": 21,
      "metadata": {
        "id": "pIdsihP0n_m4"
      },
      "outputs": [
        {
          "name": "stdout",
          "output_type": "stream",
          "text": [
            "[0.732, 0.668, 0.9225, 0.756]\n"
          ]
        },
        {
          "data": {
            "text/plain": [
              "<BarContainer object of 4 artists>"
            ]
          },
          "execution_count": 21,
          "metadata": {},
          "output_type": "execute_result"
        },
        {
          "data": {
            "image/png": "[encoded data removed]",
            "text/plain": [
              "<Figure size 640x480 with 1 Axes>"
            ]
          },
          "metadata": {},
          "output_type": "display_data"
        }
      ],
      "source": [
        "plt.title('Baseline Model Accuracy with No Training')\n",
        "print(accuracies)\n",
        "plt.bar(names,accuracies)"
      ]
    },
    {
      "cell_type": "code",
      "execution_count": 22,
      "metadata": {},
      "outputs": [],
      "source": [
        "score_to_text = {0:'BAD', 1:'GOOD'}"
      ]
    },
    {
      "cell_type": "code",
      "execution_count": 23,
      "metadata": {},
      "outputs": [
        {
          "name": "stdout",
          "output_type": "stream",
          "text": [
            "GOOD: I love the way you explained, ...\n",
            "BAD: I hate the way you explained, ...\n"
          ]
        }
      ],
      "source": [
        "sentence = \"I love the way you explained, plus the diversity :)\"\n",
        "max_len = 30\n",
        "sentence_pred = flairPredict(sentence)\n",
        "result = f'{score_to_text[sentence_pred]}: {sentence[:max_len]}...'\n",
        "print(result)\n",
        "\n",
        "sentence = \"I hate the way you explained, plus no diversity\"\n",
        "sentence_pred = flairPredict(sentence)\n",
        "result = f'{score_to_text[sentence_pred]}: {sentence[:max_len]}...'\n",
        "print(result)"
      ]
    }
  ],
  "metadata": {
    "colab": {
      "authorship_tag": "ABX9TyMSEXVsOJvPQpVxejqCp15Q",
      "include_colab_link": true,
      "provenance": []
    },
    "kernelspec": {
      "display_name": "Python 3",
      "name": "python3"
    },
    "language_info": {
      "name": "python"
    }
  },
  "nbformat": 4,
  "nbformat_minor": 0
}
