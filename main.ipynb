{
  "cells": [
    {
      "cell_type": "markdown",
      "metadata": {},
      "source": [
        "### Don't Rerun below (it's slow 46mins)"
      ]
    },
    {
      "cell_type": "code",
      "execution_count": 62,
      "metadata": {},
      "outputs": [],
      "source": [
        "from ipynb.fs.full.yt_web import get_video_data"
      ]
    },
    {
      "cell_type": "code",
      "execution_count": 13,
      "metadata": {},
      "outputs": [],
      "source": [
        "from ipynb.fs.full.sentiment_small import flairPredict as predict_small"
      ]
    },
    {
      "cell_type": "code",
      "execution_count": 14,
      "metadata": {},
      "outputs": [],
      "source": [
        "# from ipynb.fs.full.sentiment_large import flairPredict as predict_large"
      ]
    },
    {
      "cell_type": "code",
      "execution_count": 34,
      "metadata": {},
      "outputs": [],
      "source": [
        "import collections"
      ]
    },
    {
      "cell_type": "code",
      "execution_count": 15,
      "metadata": {},
      "outputs": [],
      "source": [
        "score_to_text = {0:'BAD', 1:'GOOD'}\n",
        "videos = get_video_data()"
      ]
    },
    {
      "cell_type": "code",
      "execution_count": 67,
      "metadata": {},
      "outputs": [],
      "source": [
        "tags = [1, 2, 10, 15, 17, 18, 19, 20, 21, 22, 23, 24, 25, 26, 27, 28, 29, 30, 31, 32, 33, 34, 35, 36, 37, 38, 39, 40, 41, 42, 43, 44]\n",
        "id_to_tag =  {1:'Film & Animation',2:'Autos & Vehicles',10:'Music',15:'Pets & Animals',17:'Sports',18:'Short Movies',19:'Travel & Events',20:'Gaming',21:'Videoblogging',22:'People & Blogs',23:'Comedy',24:'Entertainment',25:'News & Politics',26:'Howto & Style',27:'Education',28:'Science & Technology',29:'Nonprofits & Activism',30:'Movies',31:'Anime/Animation',32:'Action/Adventure',33:'Classics',34:'Comedy',35:'Documentary',36:'Drama',37:'Family',38:'Foreign',39:'Horror',40:'Sci-Fi/Fantasy',41:'Thriller',42:'Shorts',43:'Shows',44:'Trailers'}"
      ]
    },
    {
      "cell_type": "code",
      "execution_count": 17,
      "metadata": {},
      "outputs": [
        {
          "name": "stdout",
          "output_type": "stream",
          "text": [
            "GOOD: I love the way you explained, ...\n",
            "BAD: I hate the way you explained, ...\n"
          ]
        }
      ],
      "source": [
        "sentence = \"I love the way you explained, plus the diversity :)\"\n",
        "max_len = 30\n",
        "sentence_pred = predict_small(sentence)\n",
        "result = f'{score_to_text[sentence_pred]}: {sentence[:max_len]}...'\n",
        "print(result)\n",
        "\n",
        "sentence = \"I hate the way you explained, plus no diversity\"\n",
        "sentence_pred = predict_small(sentence)\n",
        "result = f'{score_to_text[sentence_pred]}: {sentence[:max_len]}...'\n",
        "print(result)"
      ]
    },
    {
      "cell_type": "code",
      "execution_count": 31,
      "metadata": {},
      "outputs": [
        {
          "name": "stdout",
          "output_type": "stream",
          "text": [
            "Entertainment\n",
            "Film & Animation\n",
            "Entertainment\n",
            "Sports\n",
            "Music\n",
            "Music\n",
            "Sports\n",
            "Entertainment\n",
            "Music\n",
            "Music\n"
          ]
        }
      ],
      "source": [
        "for v in videos.values():\n",
        "    print(id_to_tag[v.category_id])"
      ]
    },
    {
      "cell_type": "markdown",
      "metadata": {},
      "source": [
        "### Types of charts\n",
        "#### tag -> sentiment ratio Sports [40% positive]  -- compare most positive tags\n",
        "#### Word blob | comments / tag (all, pos, neg)\n",
        "#### each tag, have most popular topics top 5: [soccer: fifa 60% pos , messi 80% pos] [music: bts]\n",
        "#### comments/view_count / tag  = how enganging is a tag \n",
        "#### word generator\n"
      ]
    },
    {
      "cell_type": "code",
      "execution_count": 55,
      "metadata": {},
      "outputs": [],
      "source": [
        "from nltk.corpus import stopwords\n",
        "from nltk.tokenize import word_tokenize\n",
        "  \n",
        "example_sent = \"\"\"This is a sample sentence,\n",
        "                  showing off the stop words filtration.\"\"\"\n",
        "  \n",
        "stop_words = set(stopwords.words('english'))\n",
        "  "
      ]
    },
    {
      "cell_type": "code",
      "execution_count": null,
      "metadata": {},
      "outputs": [],
      "source": []
    },
    {
      "cell_type": "code",
      "execution_count": 76,
      "metadata": {},
      "outputs": [
        {
          "name": "stdout",
          "output_type": "stream",
          "text": [
            "Film & Animation  -  [('Indiana', 4), ('Jones', 4), ('wasn’t', 2), ('time', 2), ('retiring', 2), ('end', 2), ('series', 2), ('Seeing', 1), ('Sallah', 1), ('smile', 1)]\n",
            "Music  -  [('Namjoon', 6), ('song', 5), ('like', 4), ('love', 3), ('te', 3), ('Kim', 3), ('arte', 2), ('amo', 2), ('I’m', 2), ('pretty', 2)]\n",
            "Sports  -  [('Japan', 4), ('goal', 4), ('lost', 3), ('second', 3), ('last', 2), ('Congrats', 2), ('South', 2), ('happy', 2), ('go', 2), ('Portugal', 2)]\n",
            "Entertainment  -  [('love', 4), ('going', 3), ('really', 3), ('thought', 3), ('rez', 3), ('guardians', 2), ('hold', 2), (\"I'm\", 2), ('feel', 2), ('Drax', 2)]\n"
          ]
        }
      ],
      "source": [
        "tags_counder = {}\n",
        "for v in videos.values():\n",
        "    for s in v.comments:\n",
        "        for w in s.split():\n",
        "            if w.lower() not in stop_words:\n",
        "                if int(v.category_id) not in tags_counder:\n",
        "                    tags_counder[int(v.category_id)] = [w]\n",
        "                else: tags_counder[int(v.category_id)].append(w)\n",
        "for t in tags:\n",
        "    if t in tags_counder:\n",
        "        print(id_to_tag[t] , ' - ', collections.Counter(tags_counder[t]).most_common(10))"
      ]
    },
    {
      "cell_type": "code",
      "execution_count": 77,
      "metadata": {},
      "outputs": [
        {
          "data": {
            "image/png": "[encoded data removed]",
            "text/plain": [
              "<Figure size 640x480 with 1 Axes>"
            ]
          },
          "metadata": {},
          "output_type": "display_data"
        }
      ],
      "source": [
        "import matplotlib.pyplot as plt\n",
        "labels = ['Python', 'C++', 'Ruby', 'Java']\n",
        "sizes = [215, 130, 245, 210]\n",
        "# Plot\n",
        "plt.pie(sizes, labels=labels, \n",
        "        autopct='%1.1f%%', shadow=True, startangle=140)\n",
        "plt.axis('equal')\n",
        "plt.show()"
      ]
    }
  ],
  "metadata": {
    "accelerator": "GPU",
    "colab": {
      "authorship_tag": "ABX9TyPbsO1gVjmxC2epR4DuWqiD",
      "include_colab_link": true,
      "provenance": []
    },
    "gpuClass": "standard",
    "kernelspec": {
      "display_name": "Python 3.9.13 ('ai')",
      "language": "python",
      "name": "python3"
    },
    "language_info": {
      "codemirror_mode": {
        "name": "ipython",
        "version": 3
      },
      "file_extension": ".py",
      "mimetype": "text/x-python",
      "name": "python",
      "nbconvert_exporter": "python",
      "pygments_lexer": "ipython3",
      "version": "3.9.13"
    },
    "vscode": {
      "interpreter": {
        "hash": "4945012c8ebc097ef9b1d0a7dea5b9b50f69c4e53b9d780ce4c29201fedc73a7"
      }
    }
  },
  "nbformat": 4,
  "nbformat_minor": 0
}
