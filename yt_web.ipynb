{
  "cells": [
    {
      "cell_type": "code",
      "execution_count": 107,
      "metadata": {},
      "outputs": [],
      "source": [
        "class Video:\n",
        "    def __init__(self, id, title, desc, category_id, comments, tags, channel_title, view_count, comment_count) -> None:\n",
        "        self.id = id\n",
        "        self.title = title\n",
        "        self.desc = desc\n",
        "        self.category_id = int(category_id)\n",
        "        self.comments = comments\n",
        "        self.tags = tags\n",
        "        self.channel_title = channel_title\n",
        "        self.view_count = view_count\n",
        "        self.comment_count = comment_count\n",
        "    \n",
        "    def __str__(self):\n",
        "        return f'{self.id},{self.title},{self.desc[:10]},{self.category_id},{len(self.comments)},{len(self.tags)},{self.channel_title},{self.view_count},{self.comment_count}'\n"
      ]
    },
    {
      "cell_type": "markdown",
      "metadata": {
        "colab_type": "text",
        "id": "view-in-github"
      },
      "source": [
        "<a href='https://colab.research.google.com/github/cdwangco/SentimentAnalysisProject/blob/main/MLProjectYTSentimentAnalysis.ipynb' target='_parent'><img src='https://colab.research.google.com/assets/colab-badge.svg' alt='Open In Colab'/></a>"
      ]
    },
    {
      "cell_type": "code",
      "execution_count": 108,
      "metadata": {},
      "outputs": [],
      "source": [
        "import requests, sys, time, os\n",
        "\n",
        "key_path = 'api_key.txt'\n",
        "output_dir = 'output/'\n",
        "\n",
        "header = ['video_id', 'title', 'desc', 'categoryId', 'comments', 'tags', 'channel_title',  'view_count', 'comment_count']\n",
        "MAX_VIDEOS = 100\n",
        "MAX_COMMENTS = 100\n",
        "\n",
        "def api_request(page_token, api_key):\n",
        "    # Builds the URL and requests the JSON from it\n",
        "    country_code = 'US'\n",
        "    chart = 'mostPopular'\n",
        "    request_url = f'https://www.googleapis.com/youtube/v3/videos?part=id,statistics,snippet{page_token}chart={chart}&regionCode={country_code}&maxResults={MAX_VIDEOS}&key={api_key}'\n",
        "    request = requests.get(request_url)\n",
        "    if request.status_code == 429:\n",
        "        print('Temp-Banned due to excess requests, please wait and continue later')\n",
        "        sys.exit()\n",
        "\n",
        "    video_data_page = request.json()\n",
        "    res = video_data_page\n",
        "    items = video_data_page.get('items', [])\n",
        "    video_dict = {}\n",
        "    for video in items:\n",
        "        video_id = video['id']\n",
        "        snippet = video['snippet']\n",
        "        title = snippet.get('title','')\n",
        "        desc = snippet.get('description', '')\n",
        "        category_id = snippet.get('categoryId','')\n",
        "        tags = snippet.get('tags', ['[none]'])\n",
        "        statistics = video['statistics']\n",
        "        view_count = statistics.get('viewCount', 0)\n",
        "        comment_count = statistics['commentCount']\n",
        "        channel_title = snippet.get('channelTitle','')\n",
        "        \n",
        "        request_url = f'https://www.googleapis.com/youtube/v3/commentThreads?key={api_key}&textFormat=plainText&part=snippet&videoId={video_id}&maxResults={MAX_COMMENTS}&pageToken={page_token}'\n",
        "        comments_request = requests.get(request_url)\n",
        "        comments_request = comments_request.json()\n",
        "        comments_items = comments_request.get('items', [])\n",
        "        comments = [c.get('snippet', {}).get('topLevelComment',{}).get('snippet', {}).get('textDisplay', '') for c in comments_items]\n",
        "        video = Video(video_id, title, desc, category_id, comments, tags, channel_title, view_count, comment_count)\n",
        "        video_dict[video_id] = video\n",
        "\n",
        "    return video_dict\n",
        "\n",
        "def write_to_file(country_data):\n",
        "    if not os.path.exists(output_dir):\n",
        "        os.makedirs(output_dir)\n",
        "\n",
        "    with open(f'{output_dir}/{time.strftime(\"%y.%d.%m\")}_videos.csv', 'w+', encoding='utf-8') as file:\n",
        "        for row in country_data:\n",
        "            file.write(f'{row}\\n')\n",
        "\n",
        "\n",
        "def get_video_data(should_write_to_file=False):\n",
        "    api_key = \"\"\n",
        "    with open(key_path, 'r') as file:\n",
        "        api_key = file.readline()\n",
        "    result = api_request('&', api_key)\n",
        "    results_list = list(result.values())\n",
        "    country_data = [','.join(header)] + results_list\n",
        "    if should_write_to_file:\n",
        "        write_to_file(country_data)\n",
        "    return result\n"
      ]
    },
    {
      "cell_type": "code",
      "execution_count": 106,
      "metadata": {},
      "outputs": [
        {
          "data": {
            "text/plain": [
              "{'u3V5KDHRQvk': <__main__.Video at 0x7fda7712ddc0>,\n",
              " 'ZfVYgWYaHmE': <__main__.Video at 0x7fda7712d5b0>,\n",
              " '2IwhkJ0XzRE': <__main__.Video at 0x7fda74a99880>,\n",
              " 'js-bcssOQyo': <__main__.Video at 0x7fda76740e20>,\n",
              " 'u18be_kRmC0': <__main__.Video at 0x7fda76021d90>,\n",
              " 'RcTLBsXvzQk': <__main__.Video at 0x7fda7624b9d0>,\n",
              " 'EPWrVyyd3U4': <__main__.Video at 0x7fda7378ee80>,\n",
              " 'mkHQDPch6fo': <__main__.Video at 0x7fda76b288b0>,\n",
              " 'CKg3FV5gwMc': <__main__.Video at 0x7fda75d747c0>,\n",
              " 'qyi1DaFZzXQ': <__main__.Video at 0x7fda75d74d90>}"
            ]
          },
          "execution_count": 106,
          "metadata": {},
          "output_type": "execute_result"
        }
      ],
      "source": []
    }
  ],
  "metadata": {
    "accelerator": "GPU",
    "colab": {
      "authorship_tag": "ABX9TyPbsO1gVjmxC2epR4DuWqiD",
      "include_colab_link": true,
      "provenance": []
    },
    "gpuClass": "standard",
    "kernelspec": {
      "display_name": "Python 3.9.13 ('ai')",
      "language": "python",
      "name": "python3"
    },
    "language_info": {
      "codemirror_mode": {
        "name": "ipython",
        "version": 3
      },
      "file_extension": ".py",
      "mimetype": "text/x-python",
      "name": "python",
      "nbconvert_exporter": "python",
      "pygments_lexer": "ipython3",
      "version": "3.9.13"
    },
    "vscode": {
      "interpreter": {
        "hash": "4945012c8ebc097ef9b1d0a7dea5b9b50f69c4e53b9d780ce4c29201fedc73a7"
      }
    }
  },
  "nbformat": 4,
  "nbformat_minor": 0
}
