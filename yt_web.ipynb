{
  "cells": [
    {
      "cell_type": "code",
      "execution_count": 77,
      "metadata": {},
      "outputs": [],
      "source": [
        "class Video:\n",
        "    def __init__(self, id, title, desc, category_id, comments, tags, channel_title, view_count, comment_count) -> None:\n",
        "        self.id = id\n",
        "        self.title = title\n",
        "        self.desc = desc\n",
        "        self.category_id = category_id\n",
        "        self.comments = comments\n",
        "        self.tags = tags\n",
        "        self.channel_title = channel_title\n",
        "        self.view_count = view_count\n",
        "        self.comment_count = comment_count\n",
        "    \n",
        "    def __str__(self):\n",
        "        return f'{self.id},{self.title},desc,{self.category_id},comments,tags,{self.channel_title},{self.view_count},{self.comment_count}'\n"
      ]
    },
    {
      "cell_type": "markdown",
      "metadata": {
        "colab_type": "text",
        "id": "view-in-github"
      },
      "source": [
        "<a href='https://colab.research.google.com/github/cdwangco/SentimentAnalysisProject/blob/main/MLProjectYTSentimentAnalysis.ipynb' target='_parent'><img src='https://colab.research.google.com/assets/colab-badge.svg' alt='Open In Colab'/></a>"
      ]
    },
    {
      "cell_type": "code",
      "execution_count": 87,
      "metadata": {},
      "outputs": [
        {
          "name": "stdout",
          "output_type": "stream",
          "text": [
            "['Shout out to Spacehog for having \"In the Meantime\" as the theme song here!\\nOne of the coolest tunes from 90\\'s making quite a comeback!!!', 'Those 5 color....\\n....\\nMORPHIN TIME', '0:47 among us', \"Please don't suck like the last one.\", 'Let me guess, they kill Adam with a dance off.', 'Perfect Movies On 2023!', 'I like the part where Rocket said \"It\\'s Rockin\\' time\", and started Rocking out', '1:28 Adam Warlock?', 'I LOVE IT!', \"not excited for this honestly, 1) did they seriously make an Among Us reference ( 0:49 )  2) Groot looks awful, a big Baby Groot head and Adult Groot body. It's just bad design and is really distracting\"]\n",
            "['Well this looks bad.', '😊 looking forward to this movie.', 'Holy shit can we just stop making sequels to dead franchises for five minutes', 'Crystal Skull: “I won’t be the worst Indy movie anymore”', 'But will they bring back Short Round?', 'please let this be as good as I want it to be', 'This is going to make Crystal Skull look good.', \"It's going to be dog shit. Evil Marxists cannot create, they can only corrupt and destroy.  If you liked Disney SW, I'm sure you'll love this.\", 'Well here I thought they already killed the franchise with Crystal Skull...', 'Looks good\\nBack to fuck The Nazis\\nNow deliver\\nYou guys got some making up to do because of that last bullshit']\n",
            "['lets goo ur back broski', 'So glad he’s back🎉', 'bro i’m literally crying', 'Bro is jacked now 😮', 'The fact this man can come back and still have the exact same personality and still be able to make fun of Kalen while telling about his emotional past is Great', \"Rez you have every right to stop uploading. I'm glad you told us what happened and if anything else happens or of your still not comfortable you have every right to not upload.\", 'REZZZZZZZ YouTube has not been the same without you man', 'Your Fr gonna carry Christmas on your back💪', 'man came back buff😭', 'You look jacked my guy']\n",
            "[\"Go to the army and don't come back pls\", 'Streem harder army please', 'Estoy llorando', 'Namu merry mee 💜💜💜', 'Meu marido é muito lalentoso💙💙💙', 'Naaaamjoooooon💜💜💜💜💜💜💜💜💜💜💜💜💜💜💜💜💜💜💜💜💜💜💜💜💜💜💜💜💜💜💜💜', 'Hermosa canción. \\nNam te amo.', 'Que joya..... Es un verdadero genio....💜✨', 'Cuántos sentimientos en una canción. Valió la pena esperar la obra de arte que es INDIGO. Namjoon nunca nos defrauda. Gracias, mi vida!', \"Yt new rules are sucks \\nI really don't understand but in general yt vi.wes decreased\"]\n",
            "['cocanuts kill more people than sharks', 'Vaiyaa help me', '1:47 I got stung by man of war', 'Danger', 'what about mosquitoes', 'canada mosses daily occurrence', 'Orcas should have been somewhere on that list because they are more dangerous than sharks.', 'Just to clear it up is snakes can be VENOMOUS but they can never be Poisonous', 'Hey I now Tayler Olivear', 'Awesome']\n",
            "['Were you as happy as the crying fan when Japan won?', 'New vid up (channel: smoking with dez)', 'New vid up (channel: smoking with dez)', 'New vid up (channel: smoking with dez)', 'New vid up (channel: smoking with dez)', 'New vid up (channel: smoking with dez)', 'New vid up (channel: smoking with dez)', 'New vid up (channel: smoking with dez)', 'New vid up (channel: smoking with dez)', 'Congratulations Japan Win! But you better check the moment of 2:56 Sec from Fox video clip. Differences between 2:55 Sec and 2:56 Sec. The ball is very clearly out. It proves that VAR system is working not quite accurate as it should be.']\n",
            "['Glos rap is just bad 🤮', 'Slaughter gang in the cut 🔪', 'The flourishing girls that shit is trash 🗑', 'Okay Latto I see u', 'Glo on demon time', \"Y'all cap in these comments..wer Gangsta boo tho👀\", 'Wasn’t feeling latto, but she  need one with Meg it will be hard energy wasn’t there like her and Cardi', \"I don't like it🥴\", '*#Dry*', 'BIG LATTO !!!!']\n",
            "['Grateful for Tiny Desk today? We count on viewers like you to support our work. Your donation funds our work to showcase musicians and storytellers from across the world. Donate today. https://www.npr.org/donations/510306', 'namjoon is truly an immaculate human and songwriter. his words are always so inspiring', 'Amé con el alma cada una de las canciones, Namjoon superó mis expectativas, como siempre hace, estoy muy orgullosa y agradecida por su hermosa música y esta presentación solo confirma una vez más que él es un artista completo que ama lo que hace y trabaja duro por su arte', '👏🏼👏🏼👏🏼', 'I am very proud of you!!! I really love every single song that you made. Mono to Indigo are my comfort places, so I am very grateful for having you as my idol, as a person that I admire a lot. Thank you for INDIGO, this album is amazing I am still speechless with the songs, I felt so much peace listening to it. I love you 💜💙💜', 'I LOVE UUUUU', 'wow such a masterpiece!', 'I love him so much man ☹️', 'YOOO THIS WAS CRAZY AMAZING, his flow, cadence, breathes, songwriting skills and overall messages are always 100%', 'This is perfect']\n",
            "[\"It's giving Tennessee orange vibes👀\", 'Y’all can beat Bama but can y’all beat the Gamecocks???', 'Joke’s on Alabama ❤🍊', 'Tennessee Orange??? 🧡', 'Only won by a field goal', 'Love this song', 'Been waiting for this! Great song', '❤️❤️❤️❣️🥰', 'Go Vols!', 'I like this song Go Vols!!!!!!']\n",
            "['Absolute slam dunk of an event.  Was ecstatic watching this live.  Awesome music when the truck first rolled out!', 'Looks so smooth to drive, I didn’t see any bouncing or swaying. It looks like it’s floating .', \"Kanye isn't wrong\", 'Must see https://www.youtube.com/watch?v=LtOqU2o81iI 400k', \"I watching on event live and i don't understand on speak ingles, I must subtitle for accessible on the deaf and hard of hearing, subtitles improve comprehension for viewers learning a different language.  ( Feedback)   Thank you\", 'Going to be a lot easier to find drivers for these things. It takes less skill and physical excursion / fitness to dive this thing. Drivers that had to give up their career for health reasons might be able to get back to work. On the health side you are also not breathing fumes all the time.', '🗑 🚮', 'im here just for the intro music. this is fire!!!', 'Cuck Tesla cult, assemble!', 'Errol Musk married his stepdaughter.']\n"
          ]
        }
      ],
      "source": [
        "import requests, sys, time, os\n",
        "output_dir = 'output/'\n",
        "# Any characters to exclude, generally these are things that become problematic in CSV files\n",
        "unsafe_characters = ['\\n', '\"']\n",
        "\n",
        "# Used to identify columns, currently hardcoded order\n",
        "header = ['video_id', 'title', 'desc', 'categoryId', 'comments', 'tags', 'channel_title',  'view_count', 'comment_count']\n",
        "MAX_VIDEOS = 10\n",
        "MAX_COMMENTS = 10\n",
        "\n",
        "def setup(api_path, code_path):\n",
        "    with open(api_path, 'r') as file:\n",
        "        api_key = file.readline()\n",
        "\n",
        "    with open(code_path) as file:\n",
        "        country_codes = [x.rstrip() for x in file]\n",
        "\n",
        "    return api_key, country_codes\n",
        "\n",
        "def api_request(page_token, country_code):\n",
        "    # Builds the URL and requests the JSON from it\n",
        "    request_url = f'https://www.googleapis.com/youtube/v3/videos?part=id,statistics,snippet{page_token}chart=mostPopular&regionCode={country_code}&maxResults={MAX_VIDEOS}&key={api_key}'\n",
        "    request = requests.get(request_url)\n",
        "    if request.status_code == 429:\n",
        "        print('Temp-Banned due to excess requests, please wait and continue later')\n",
        "        sys.exit()\n",
        "\n",
        "    video_data_page = request.json()\n",
        "    res = video_data_page\n",
        "    items = video_data_page.get('items', [])\n",
        "    video_dict = {}\n",
        "    for video in items:\n",
        "        video_id = video['id']\n",
        "        snippet = video['snippet']\n",
        "        title = snippet.get('title','')\n",
        "        desc = snippet.get('description', '')\n",
        "        category_id = snippet.get('categoryId','')\n",
        "        tags = snippet.get('tags', ['[none]'])\n",
        "        statistics = video['statistics']\n",
        "        view_count = statistics.get('viewCount', 0)\n",
        "        comment_count = statistics['commentCount']\n",
        "        channel_title = snippet.get('channelTitle','')\n",
        "        \n",
        "        request_url = f'https://www.googleapis.com/youtube/v3/commentThreads?key={api_key}&textFormat=plainText&part=snippet&videoId={video_id}&maxResults={MAX_COMMENTS}&pageToken={page_token}'\n",
        "        comments_request = requests.get(request_url)\n",
        "        comments_request = comments_request.json()\n",
        "        comments_items = comments_request.get('items', [])\n",
        "        comments = [c.get('snippet', {}).get('topLevelComment',{}).get('snippet', {}).get('textDisplay', '') for c in comments_items]\n",
        "        video = Video(video_id, title, desc, category_id, comments, tags, channel_title, view_count, comment_count)\n",
        "        video_dict[video_id] = video\n",
        "\n",
        "    return video_dict\n",
        "\n",
        "def write_to_file(country_code, country_data):\n",
        "    if not os.path.exists(output_dir):\n",
        "        os.makedirs(output_dir)\n",
        "\n",
        "    with open(f'{output_dir}/{time.strftime(\"%y.%d.%m\")}_{country_code}_videos.csv', 'w+', encoding='utf-8') as file:\n",
        "        for row in country_data:\n",
        "            file.write(f'{row}\\n')\n",
        "\n",
        "\n",
        "def get_video_data(should_write_to_file=False):\n",
        "    for country_code in country_codes:\n",
        "        result = api_request('&', country_code)\n",
        "        results_list = list(result.values())\n",
        "        country_data = [','.join(header)] + results_list\n",
        "        if should_write_to_file:\n",
        "            write_to_file(country_code, country_data)\n",
        "    return result\n",
        "\n",
        "\n",
        "key_path = 'api_key.txt'\n",
        "country_codes = 'country_codes.txt'\n",
        "api_key, country_codes = setup(key_path, country_codes)\n",
        "\n",
        "videos = get_video_data()\n",
        "for v in videos.values():\n",
        "    print(videos[v.id].comments)"
      ]
    }
  ],
  "metadata": {
    "accelerator": "GPU",
    "colab": {
      "authorship_tag": "ABX9TyPbsO1gVjmxC2epR4DuWqiD",
      "include_colab_link": true,
      "provenance": []
    },
    "gpuClass": "standard",
    "kernelspec": {
      "display_name": "Python 3.9.13 ('ai')",
      "language": "python",
      "name": "python3"
    },
    "language_info": {
      "codemirror_mode": {
        "name": "ipython",
        "version": 3
      },
      "file_extension": ".py",
      "mimetype": "text/x-python",
      "name": "python",
      "nbconvert_exporter": "python",
      "pygments_lexer": "ipython3",
      "version": "3.9.13"
    },
    "vscode": {
      "interpreter": {
        "hash": "4945012c8ebc097ef9b1d0a7dea5b9b50f69c4e53b9d780ce4c29201fedc73a7"
      }
    }
  },
  "nbformat": 4,
  "nbformat_minor": 0
}
