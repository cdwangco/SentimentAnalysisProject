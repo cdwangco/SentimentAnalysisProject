{
  "cells": [
    {
      "cell_type": "code",
      "execution_count": 1,
      "metadata": {},
      "outputs": [],
      "source": [
        "import requests, sys, time, os"
      ]
    },
    {
      "cell_type": "code",
      "execution_count": null,
      "metadata": {},
      "outputs": [],
      "source": [
        "key_path = 'api_key.txt'\n",
        "output_dir = 'output/'\n",
        "country_codes = ['US','GB','IN','DE','CA','FR','KR','RU','JP','BR','MX']\n",
        "header = ['video_id', 'title', 'desc', 'categoryId', 'comments', 'tags', 'channel_title',  'view_count', 'comment_count']\n",
        "MAX_VIDEOS = 100\n",
        "MAX_COMMENTS = 100\n",
        "GET_VIDEOS_COUNT = 100\n",
        "GET_COMMENTS_COUNT = 100"
      ]
    },
    {
      "cell_type": "code",
      "execution_count": 72,
      "metadata": {},
      "outputs": [],
      "source": [
        "class Video:\n",
        "    def __init__(self, id, title, desc, category_id, comments, tags, channel_title, view_count, comment_count) -> None:\n",
        "        self.id = id\n",
        "        self.title = title\n",
        "        self.desc = desc\n",
        "        self.category_id = int(category_id)\n",
        "        self.comments = comments\n",
        "        self.tags = tags\n",
        "        self.channel_title = channel_title\n",
        "        self.view_count = view_count\n",
        "        self.comment_count = comment_count\n",
        "    \n",
        "    def __str__(self):\n",
        "        return f'{self.id},{self.title},{self.desc[:10]},{self.category_id},{len(self.comments)},{len(self.tags)},{self.channel_title},{self.view_count},{self.comment_count}'\n"
      ]
    },
    {
      "cell_type": "code",
      "execution_count": 74,
      "metadata": {},
      "outputs": [],
      "source": [
        "def get_videos_dict(videos, api_key):\n",
        "    videos_dict = {}\n",
        "    for video in videos:\n",
        "        video_id = video['id']\n",
        "        snippet = video['snippet']\n",
        "        title = snippet.get('title','')\n",
        "        desc = snippet.get('description', '')\n",
        "        category_id = snippet.get('categoryId','')\n",
        "        tags = snippet.get('tags', ['[none]'])\n",
        "        statistics = video['statistics']\n",
        "        view_count = statistics.get('viewCount', 0)\n",
        "        comment_count = 0\n",
        "        if 'commentCount' in statistics:\n",
        "            comment_count = statistics['commentCount']\n",
        "        channel_title = snippet.get('channelTitle','')\n",
        "        comments = []\n",
        "        cur_comment_count = 0\n",
        "        next_comment_token = '&'\n",
        "        while next_comment_token is not None and cur_comment_count < MAX_COMMENTS:\n",
        "            request = f'https://www.googleapis.com/youtube/v3/commentThreads?key={api_key}&textFormat=plainText&part=snippet&videoId={video_id}&maxResults={GET_VIDEOS_COUNT}&pageToken={next_comment_token}'\n",
        "            comments_request = requests.get(request)\n",
        "            if not comments_request or not hasattr(comments_request, 'status_code') or comments_request.status_code == 429:\n",
        "                print(\"Temp-Banned due to excess requests, please wait and continue later\")\n",
        "                break\n",
        "            comments_request = comments_request.json()\n",
        "            comments_items = comments_request.get('items', [])\n",
        "            comments.extend([c.get('snippet', {}).get('topLevelComment',{}).get('snippet', {}).get('textDisplay', '') for c in comments_items])\n",
        "            next_comment_token = comments_request.get(\"nextPageToken\", None)\n",
        "            next_comment_token = f\"&pageToken={next_comment_token}&\" if next_comment_token is not None else next_comment_token\n",
        "            cur_comment_count += GET_COMMENTS_COUNT\n",
        "        video = Video(video_id, title, desc, category_id, comments, tags, channel_title, view_count, comment_count)\n",
        "        videos_dict[video_id] = video\n",
        "    return videos_dict"
      ]
    },
    {
      "cell_type": "markdown",
      "metadata": {
        "colab_type": "text",
        "id": "view-in-github"
      },
      "source": [
        "<a href='https://colab.research.google.com/github/cdwangco/SentimentAnalysisProject/blob/main/MLProjectYTSentimentAnalysis.ipynb' target='_parent'><img src='https://colab.research.google.com/assets/colab-badge.svg' alt='Open In Colab'/></a>"
      ]
    },
    {
      "cell_type": "code",
      "execution_count": 75,
      "metadata": {},
      "outputs": [],
      "source": [
        "def api_request(page_token, api_key, region):\n",
        "    # Builds the URL and requests the JSON from it\n",
        "    country_code = region\n",
        "    chart = 'mostPopular'\n",
        "    next_page_token = '&'\n",
        "    cur_video_count = 0\n",
        "    while next_page_token is not None and cur_video_count < MAX_VIDEOS:\n",
        "        request_url = f'https://www.googleapis.com/youtube/v3/videos?part=id,statistics,snippet{page_token}chart={chart}&regionCode={country_code}&maxResults={GET_VIDEOS_COUNT}&key={api_key}'\n",
        "        request = requests.get(request_url)\n",
        "        if request.status_code == 429:\n",
        "            print('Temp-Banned due to excess requests, please wait and continue later')\n",
        "            sys.exit()\n",
        "        request = request.json()\n",
        "        items = request.get('items', [])\n",
        "        next_page_token = request.get(\"nextPageToken\", None)\n",
        "        next_page_token = f\"&pageToken={next_page_token}&\" if next_page_token is not None else next_page_token\n",
        "        videos_dict = get_videos_dict(items, api_key)\n",
        "        cur_video_count += GET_VIDEOS_COUNT\n",
        "    return videos_dict\n",
        "\n",
        "\n",
        "def get_video_data(region='US'):\n",
        "    api_key = \"\"\n",
        "    with open(key_path, 'r') as file:\n",
        "        api_key = file.readline()\n",
        "    \n",
        "    videos_dict = {}\n",
        "    if region == 'all':\n",
        "        for c in country_codes:\n",
        "            res = api_request('&', api_key, c)\n",
        "            for v in res.keys():\n",
        "                videos_dict[v] = res[v]\n",
        "    else: \n",
        "        api_request('&', api_key, region)\n",
        "    return videos_dict\n"
      ]
    },
    {
      "cell_type": "code",
      "execution_count": 76,
      "metadata": {},
      "outputs": [
        {
          "name": "stdout",
          "output_type": "stream",
          "text": [
            "Temp-Banned due to excess requests, please wait and continue later\n",
            "Temp-Banned due to excess requests, please wait and continue later\n",
            "Temp-Banned due to excess requests, please wait and continue later\n",
            "Temp-Banned due to excess requests, please wait and continue later\n",
            "Temp-Banned due to excess requests, please wait and continue later\n",
            "Temp-Banned due to excess requests, please wait and continue later\n",
            "Temp-Banned due to excess requests, please wait and continue later\n",
            "Temp-Banned due to excess requests, please wait and continue later\n",
            "Temp-Banned due to excess requests, please wait and continue later\n",
            "Temp-Banned due to excess requests, please wait and continue later\n",
            "Temp-Banned due to excess requests, please wait and continue later\n",
            "Temp-Banned due to excess requests, please wait and continue later\n",
            "Temp-Banned due to excess requests, please wait and continue later\n",
            "Temp-Banned due to excess requests, please wait and continue later\n",
            "Temp-Banned due to excess requests, please wait and continue later\n",
            "Temp-Banned due to excess requests, please wait and continue later\n",
            "Temp-Banned due to excess requests, please wait and continue later\n"
          ]
        }
      ],
      "source": [
        "# videos = get_video_data(region='all')"
      ]
    },
    {
      "cell_type": "code",
      "execution_count": 5,
      "metadata": {},
      "outputs": [],
      "source": [
        "def get_response(sentence):\n",
        "    url = 'http://10.0.0.162:8000/sentiment?text=' + sentence\n",
        "    url = url.replace(' ', '%20')\n",
        "    request = requests.get(url)\n",
        "    return request.json()"
      ]
    },
    {
      "cell_type": "code",
      "execution_count": 6,
      "metadata": {},
      "outputs": [
        {
          "data": {
            "text/plain": [
              "{'score': 1}"
            ]
          },
          "execution_count": 6,
          "metadata": {},
          "output_type": "execute_result"
        }
      ],
      "source": [
        "# sentence_good = 'hi i think you\\'re awesome'\n",
        "# get_response(sentence_good)"
      ]
    },
    {
      "cell_type": "code",
      "execution_count": 7,
      "metadata": {},
      "outputs": [
        {
          "data": {
            "text/plain": [
              "{'score': 0}"
            ]
          },
          "execution_count": 7,
          "metadata": {},
          "output_type": "execute_result"
        }
      ],
      "source": [
        "# sentence_bad = 'hi i think you\\'re lame'\n",
        "# get_response(sentence_bad)"
      ]
    },
    {
      "cell_type": "code",
      "execution_count": null,
      "metadata": {},
      "outputs": [],
      "source": []
    }
  ],
  "metadata": {
    "accelerator": "GPU",
    "colab": {
      "authorship_tag": "ABX9TyPbsO1gVjmxC2epR4DuWqiD",
      "include_colab_link": true,
      "provenance": []
    },
    "gpuClass": "standard",
    "kernelspec": {
      "display_name": "Python 3.9.13 ('ai')",
      "language": "python",
      "name": "python3"
    },
    "language_info": {
      "codemirror_mode": {
        "name": "ipython",
        "version": 3
      },
      "file_extension": ".py",
      "mimetype": "text/x-python",
      "name": "python",
      "nbconvert_exporter": "python",
      "pygments_lexer": "ipython3",
      "version": "3.9.13"
    },
    "vscode": {
      "interpreter": {
        "hash": "4945012c8ebc097ef9b1d0a7dea5b9b50f69c4e53b9d780ce4c29201fedc73a7"
      }
    }
  },
  "nbformat": 4,
  "nbformat_minor": 0
}
