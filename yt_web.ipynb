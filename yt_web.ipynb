{
  "cells": [
    {
      "cell_type": "code",
      "execution_count": 92,
      "metadata": {},
      "outputs": [],
      "source": [
        "class Video:\n",
        "    def __init__(self, id, title, desc, category_id, comments, tags, channel_title, view_count, comment_count) -> None:\n",
        "        self.id = id\n",
        "        self.title = title\n",
        "        self.desc = desc\n",
        "        self.category_id = category_id\n",
        "        self.comments = comments\n",
        "        self.tags = tags\n",
        "        self.channel_title = channel_title\n",
        "        self.view_count = view_count\n",
        "        self.comment_count = comment_count\n",
        "    \n",
        "    def __str__(self):\n",
        "        return f'{self.id},{self.title},{self.desc[:10]},{self.category_id},{len(self.comments)},{len(self.tags)},{self.channel_title},{self.view_count},{self.comment_count}'\n"
      ]
    },
    {
      "cell_type": "markdown",
      "metadata": {
        "colab_type": "text",
        "id": "view-in-github"
      },
      "source": [
        "<a href='https://colab.research.google.com/github/cdwangco/SentimentAnalysisProject/blob/main/MLProjectYTSentimentAnalysis.ipynb' target='_parent'><img src='https://colab.research.google.com/assets/colab-badge.svg' alt='Open In Colab'/></a>"
      ]
    },
    {
      "cell_type": "code",
      "execution_count": 93,
      "metadata": {},
      "outputs": [
        {
          "name": "stdout",
          "output_type": "stream",
          "text": [
            "u3V5KDHRQvk,Marvel Studios’ Guardians of the Galaxy Volume 3 | Official Trailer,It’s time ,24,10,2,Marvel Entertainment,11555783,23191, 10\n",
            "ZfVYgWYaHmE,Indiana Jones and the Dial of Destiny | Official Trailer,See #India,1,10,23,Lucasfilm,5797648,12282, 10\n",
            "2IwhkJ0XzRE,Why I've Been Gone,i am excit,24,10,18,MindofRez,1054398,17204, 10\n",
            "u18be_kRmC0,RM '들꽃놀이 (with 조유진)' Official MV,RM '들꽃놀이 (,10,10,4,HYBE LABELS,7686530,257173, 10\n",
            "RcTLBsXvzQk,Most Dangerous Animals!,SUBSCRIBE ,24,10,25,Beast Reacts,3589481,3350, 10\n",
            "EPWrVyyd3U4,Japan vs. Spain Highlights | 2022 FIFA World Cup,Japan and ,17,10,22,FOX Soccer,2110012,5541, 10\n",
            "mkHQDPch6fo,Latto - FTCU (feat. GloRilla & Gangsta Boo) [Official Video],Stream/Dow,10,10,29,Latto,303638,2464, 10\n",
            "CKg3FV5gwMc,RM of BTS: Tiny Desk (Home) Concert,Stephen Th,10,10,9,NPR Music,843777,13909, 10\n",
            "qyi1DaFZzXQ,Morgan Wallen - Tennessee Fan (Lyric Video),Listen to ,10,10,1,Morgan Wallen,133495,554, 10\n",
            "LtOqU2o81iI,Tesla Semi Delivery Event,,2,10,15,Tesla,611817,77, 10\n"
          ]
        }
      ],
      "source": [
        "import requests, sys, time, os\n",
        "output_dir = 'output/'\n",
        "# Any characters to exclude, generally these are things that become problematic in CSV files\n",
        "unsafe_characters = ['\\n', '\"']\n",
        "\n",
        "# Used to identify columns, currently hardcoded order\n",
        "header = ['video_id', 'title', 'desc', 'categoryId', 'comments', 'tags', 'channel_title',  'view_count', 'comment_count']\n",
        "MAX_VIDEOS = 10\n",
        "MAX_COMMENTS = 10\n",
        "\n",
        "def setup(api_path, code_path):\n",
        "    with open(api_path, 'r') as file:\n",
        "        api_key = file.readline()\n",
        "\n",
        "    with open(code_path) as file:\n",
        "        country_codes = [x.rstrip() for x in file]\n",
        "\n",
        "    return api_key, country_codes\n",
        "\n",
        "def api_request(page_token, country_code):\n",
        "    # Builds the URL and requests the JSON from it\n",
        "    request_url = f'https://www.googleapis.com/youtube/v3/videos?part=id,statistics,snippet{page_token}chart=mostPopular&regionCode={country_code}&maxResults={MAX_VIDEOS}&key={api_key}'\n",
        "    request = requests.get(request_url)\n",
        "    if request.status_code == 429:\n",
        "        print('Temp-Banned due to excess requests, please wait and continue later')\n",
        "        sys.exit()\n",
        "\n",
        "    video_data_page = request.json()\n",
        "    res = video_data_page\n",
        "    items = video_data_page.get('items', [])\n",
        "    video_dict = {}\n",
        "    for video in items:\n",
        "        video_id = video['id']\n",
        "        snippet = video['snippet']\n",
        "        title = snippet.get('title','')\n",
        "        desc = snippet.get('description', '')\n",
        "        category_id = snippet.get('categoryId','')\n",
        "        tags = snippet.get('tags', ['[none]'])\n",
        "        statistics = video['statistics']\n",
        "        view_count = statistics.get('viewCount', 0)\n",
        "        comment_count = statistics['commentCount']\n",
        "        channel_title = snippet.get('channelTitle','')\n",
        "        \n",
        "        request_url = f'https://www.googleapis.com/youtube/v3/commentThreads?key={api_key}&textFormat=plainText&part=snippet&videoId={video_id}&maxResults={MAX_COMMENTS}&pageToken={page_token}'\n",
        "        comments_request = requests.get(request_url)\n",
        "        comments_request = comments_request.json()\n",
        "        comments_items = comments_request.get('items', [])\n",
        "        comments = [c.get('snippet', {}).get('topLevelComment',{}).get('snippet', {}).get('textDisplay', '') for c in comments_items]\n",
        "        video = Video(video_id, title, desc, category_id, comments, tags, channel_title, view_count, comment_count)\n",
        "        video_dict[video_id] = video\n",
        "\n",
        "    return video_dict\n",
        "\n",
        "def write_to_file(country_code, country_data):\n",
        "    if not os.path.exists(output_dir):\n",
        "        os.makedirs(output_dir)\n",
        "\n",
        "    with open(f'{output_dir}/{time.strftime(\"%y.%d.%m\")}_{country_code}_videos.csv', 'w+', encoding='utf-8') as file:\n",
        "        for row in country_data:\n",
        "            file.write(f'{row}\\n')\n",
        "\n",
        "\n",
        "def get_video_data(should_write_to_file=False):\n",
        "    for country_code in country_codes:\n",
        "        result = api_request('&', country_code)\n",
        "        results_list = list(result.values())\n",
        "        country_data = [','.join(header)] + results_list\n",
        "        if should_write_to_file:\n",
        "            write_to_file(country_code, country_data)\n",
        "    return result\n",
        "\n",
        "\n",
        "key_path = 'api_key.txt'\n",
        "country_codes = 'country_codes.txt'\n",
        "api_key, country_codes = setup(key_path, country_codes)\n",
        "\n",
        "videos = get_video_data(True)\n",
        "for v in videos.values():\n",
        "    print(v, end=\", \")\n",
        "    print(len(videos[v.id].comments))"
      ]
    }
  ],
  "metadata": {
    "accelerator": "GPU",
    "colab": {
      "authorship_tag": "ABX9TyPbsO1gVjmxC2epR4DuWqiD",
      "include_colab_link": true,
      "provenance": []
    },
    "gpuClass": "standard",
    "kernelspec": {
      "display_name": "Python 3.9.13 ('ai')",
      "language": "python",
      "name": "python3"
    },
    "language_info": {
      "codemirror_mode": {
        "name": "ipython",
        "version": 3
      },
      "file_extension": ".py",
      "mimetype": "text/x-python",
      "name": "python",
      "nbconvert_exporter": "python",
      "pygments_lexer": "ipython3",
      "version": "3.9.13"
    },
    "vscode": {
      "interpreter": {
        "hash": "4945012c8ebc097ef9b1d0a7dea5b9b50f69c4e53b9d780ce4c29201fedc73a7"
      }
    }
  },
  "nbformat": 4,
  "nbformat_minor": 0
}
